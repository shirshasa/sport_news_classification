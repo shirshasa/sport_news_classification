{
 "cells": [
  {
   "cell_type": "code",
   "execution_count": 2,
   "id": "de64c415",
   "metadata": {},
   "outputs": [],
   "source": [
    "import pandas as pd\n",
    "import numpy as np\n",
    "import matplotlib.pyplot as plt\n",
    "\n",
    "import re"
   ]
  },
  {
   "cell_type": "code",
   "execution_count": 3,
   "id": "283f7869",
   "metadata": {},
   "outputs": [],
   "source": [
    "df_train = pd.read_csv(\"../data/raw/train.csv\")\n",
    "df_test = pd.read_csv(\"../data/raw/test.csv\")"
   ]
  },
  {
   "cell_type": "code",
   "execution_count": 4,
   "id": "9c2b6303",
   "metadata": {},
   "outputs": [
    {
     "data": {
      "text/plain": [
       "((38740, 3), (26260, 2))"
      ]
     },
     "execution_count": 4,
     "metadata": {},
     "output_type": "execute_result"
    }
   ],
   "source": [
    "df_train.shape, df_test.shape"
   ]
  },
  {
   "cell_type": "code",
   "execution_count": 5,
   "id": "a9f00edf",
   "metadata": {},
   "outputs": [
    {
     "data": {
      "text/html": [
       "<div>\n",
       "<style scoped>\n",
       "    .dataframe tbody tr th:only-of-type {\n",
       "        vertical-align: middle;\n",
       "    }\n",
       "\n",
       "    .dataframe tbody tr th {\n",
       "        vertical-align: top;\n",
       "    }\n",
       "\n",
       "    .dataframe thead th {\n",
       "        text-align: right;\n",
       "    }\n",
       "</style>\n",
       "<table border=\"1\" class=\"dataframe\">\n",
       "  <thead>\n",
       "    <tr style=\"text-align: right;\">\n",
       "      <th></th>\n",
       "      <th>oid</th>\n",
       "      <th>category</th>\n",
       "      <th>text</th>\n",
       "    </tr>\n",
       "  </thead>\n",
       "  <tbody>\n",
       "    <tr>\n",
       "      <th>0</th>\n",
       "      <td>365271984</td>\n",
       "      <td>winter_sport</td>\n",
       "      <td>Волшебные фото Виктория Поплавская ЕвгенияМедв...</td>\n",
       "    </tr>\n",
       "    <tr>\n",
       "      <th>1</th>\n",
       "      <td>503385563</td>\n",
       "      <td>extreme</td>\n",
       "      <td>Возвращение в подземелье Треша 33 Эйфория тупо...</td>\n",
       "    </tr>\n",
       "    <tr>\n",
       "      <th>2</th>\n",
       "      <td>146016084</td>\n",
       "      <td>football</td>\n",
       "      <td>Лучшие чешские вратари – Доминик Доминатор Гаш...</td>\n",
       "    </tr>\n",
       "    <tr>\n",
       "      <th>3</th>\n",
       "      <td>933865449</td>\n",
       "      <td>boardgames</td>\n",
       "      <td>Rtokenoid Warhammer40k валрак решил нас подкор...</td>\n",
       "    </tr>\n",
       "    <tr>\n",
       "      <th>4</th>\n",
       "      <td>713550145</td>\n",
       "      <td>hockey</td>\n",
       "      <td>Шестеркин затаскивает Рейнджерс в финал Восточ...</td>\n",
       "    </tr>\n",
       "    <tr>\n",
       "      <th>...</th>\n",
       "      <td>...</td>\n",
       "      <td>...</td>\n",
       "      <td>...</td>\n",
       "    </tr>\n",
       "    <tr>\n",
       "      <th>38735</th>\n",
       "      <td>910636962</td>\n",
       "      <td>autosport</td>\n",
       "      <td>8 битная буря снова накрыла пикселями автомоби...</td>\n",
       "    </tr>\n",
       "    <tr>\n",
       "      <th>38736</th>\n",
       "      <td>669736851</td>\n",
       "      <td>autosport</td>\n",
       "      <td>Ира Сидоркова объясняет как сказалась на ее ма...</td>\n",
       "    </tr>\n",
       "    <tr>\n",
       "      <th>38737</th>\n",
       "      <td>558919241</td>\n",
       "      <td>tennis</td>\n",
       "      <td>24 я ракетка мира хорват Марин Чилич обыграл и...</td>\n",
       "    </tr>\n",
       "    <tr>\n",
       "      <th>38738</th>\n",
       "      <td>776944963</td>\n",
       "      <td>volleyball</td>\n",
       "      <td>Стал известен календарь мужской сборной России...</td>\n",
       "    </tr>\n",
       "    <tr>\n",
       "      <th>38739</th>\n",
       "      <td>577334983</td>\n",
       "      <td>hockey</td>\n",
       "      <td>Первенство ВХЛ. Первый этап Динамо Алтай Бн ЦС...</td>\n",
       "    </tr>\n",
       "  </tbody>\n",
       "</table>\n",
       "<p>38740 rows × 3 columns</p>\n",
       "</div>"
      ],
      "text/plain": [
       "             oid      category  \\\n",
       "0      365271984  winter_sport   \n",
       "1      503385563       extreme   \n",
       "2      146016084      football   \n",
       "3      933865449    boardgames   \n",
       "4      713550145        hockey   \n",
       "...          ...           ...   \n",
       "38735  910636962     autosport   \n",
       "38736  669736851     autosport   \n",
       "38737  558919241        tennis   \n",
       "38738  776944963    volleyball   \n",
       "38739  577334983        hockey   \n",
       "\n",
       "                                                    text  \n",
       "0      Волшебные фото Виктория Поплавская ЕвгенияМедв...  \n",
       "1      Возвращение в подземелье Треша 33 Эйфория тупо...  \n",
       "2      Лучшие чешские вратари – Доминик Доминатор Гаш...  \n",
       "3      Rtokenoid Warhammer40k валрак решил нас подкор...  \n",
       "4      Шестеркин затаскивает Рейнджерс в финал Восточ...  \n",
       "...                                                  ...  \n",
       "38735  8 битная буря снова накрыла пикселями автомоби...  \n",
       "38736  Ира Сидоркова объясняет как сказалась на ее ма...  \n",
       "38737  24 я ракетка мира хорват Марин Чилич обыграл и...  \n",
       "38738  Стал известен календарь мужской сборной России...  \n",
       "38739  Первенство ВХЛ. Первый этап Динамо Алтай Бн ЦС...  \n",
       "\n",
       "[38740 rows x 3 columns]"
      ]
     },
     "execution_count": 5,
     "metadata": {},
     "output_type": "execute_result"
    }
   ],
   "source": [
    "df_train"
   ]
  },
  {
   "cell_type": "code",
   "execution_count": 6,
   "id": "2c67b59c",
   "metadata": {},
   "outputs": [
    {
     "data": {
      "text/plain": [
       "category\n",
       "autosport       3160\n",
       "extreme         3110\n",
       "martial_arts    3050\n",
       "motosport       3030\n",
       "boardgames      3020\n",
       "tennis          3000\n",
       "esport          2990\n",
       "athletics       2970\n",
       "hockey          2950\n",
       "volleyball      2950\n",
       "football        2860\n",
       "basketball      2850\n",
       "winter_sport    2800\n",
       "Name: count, dtype: int64"
      ]
     },
     "execution_count": 6,
     "metadata": {},
     "output_type": "execute_result"
    }
   ],
   "source": [
    "df_train.category.value_counts()"
   ]
  },
  {
   "cell_type": "code",
   "execution_count": 8,
   "id": "d6dd2e78",
   "metadata": {},
   "outputs": [
    {
     "data": {
      "text/plain": [
       "['winter_sport',\n",
       " 'extreme',\n",
       " 'football',\n",
       " 'boardgames',\n",
       " 'hockey',\n",
       " 'esport',\n",
       " 'athletics',\n",
       " 'motosport',\n",
       " 'basketball',\n",
       " 'tennis',\n",
       " 'autosport',\n",
       " 'martial_arts',\n",
       " 'volleyball']"
      ]
     },
     "execution_count": 8,
     "metadata": {},
     "output_type": "execute_result"
    }
   ],
   "source": [
    "df_train.category.unique().tolist()"
   ]
  },
  {
   "cell_type": "code",
   "execution_count": 64,
   "id": "138f88cf",
   "metadata": {},
   "outputs": [
    {
     "data": {
      "text/plain": [
       "True"
      ]
     },
     "execution_count": 64,
     "metadata": {},
     "output_type": "execute_result"
    }
   ],
   "source": [
    "all(df_train.oid.value_counts() == 10)"
   ]
  },
  {
   "cell_type": "markdown",
   "id": "7fd1a5e1",
   "metadata": {},
   "source": [
    "\n",
    "#### Проверим как соотносятся разные oid и их категории: правда ли что один oid может относиться только к одной категории?"
   ]
  },
  {
   "cell_type": "code",
   "execution_count": 117,
   "id": "5e1973a4",
   "metadata": {},
   "outputs": [
    {
     "data": {
      "text/plain": [
       "True"
      ]
     },
     "execution_count": 117,
     "metadata": {},
     "output_type": "execute_result"
    }
   ],
   "source": [
    "all(df_train.groupby([\"oid\"]).apply(lambda x: len(x.category.unique())) == 1)"
   ]
  },
  {
   "cell_type": "code",
   "execution_count": 4,
   "id": "c87cc60e",
   "metadata": {},
   "outputs": [
    {
     "data": {
      "text/plain": [
       "set()"
      ]
     },
     "execution_count": 4,
     "metadata": {},
     "output_type": "execute_result"
    }
   ],
   "source": [
    "set(df_test.oid).intersection(df_train.oid)"
   ]
  },
  {
   "cell_type": "markdown",
   "id": "2221fa90",
   "metadata": {},
   "source": [
    "#### Колонка `oid`\n",
    "- Один oid может принадлежать только одной категории. \n",
    "- Нет пересечения oid в тренировочных и тестовых выборках.\n",
    "- Скорее всего `oid` - это уникальный индитификатор источника из которого был извлечен текст.\n",
    "\n",
    "> Таким образом oid может быть использован на этапе EDA, и на этапе разделения выборки на тренировочную и валидационную, но на этапе построения модели и инференса он не нужен.\n",
    "\n",
    "### Постановка задачи\n",
    "\n",
    "Из условия тестовго задания:\n",
    "\n",
    "Создать модель классификации, которая на вход принимает текст, а как результат возвращает класс. Рекомендуется использовать train.csv для тренировки, а test.csv – для теста, но не запрещается обратное.\n",
    "\n",
    "Можно заключить по данным, что:\n",
    "- класс - это колонка `category`\n",
    "- колонка `oid` - скорее всего идентификатор источника, откуда был взят текст.\n",
    "\n",
    "Таким образом, задача состоит в том, чтобы создать модель классификации, которая предсказывает принадлежит ли текст к одной из категорий:\n",
    "\n",
    "    autosport\n",
    "    extreme\n",
    "    martial_arts\n",
    "    motosport\n",
    "    boardgames\n",
    "    tennis\n",
    "    esport\n",
    "    athletics\n",
    "    hockey\n",
    "    volleyball\n",
    "    football\n",
    "    basketball\n",
    "    winter_sport\n",
    "    "
   ]
  },
  {
   "cell_type": "markdown",
   "id": "792c5a27",
   "metadata": {},
   "source": [
    "# I. Поиск дубликатов.\n",
    "\n",
    "## [1]  Поиск полных дубликатов"
   ]
  },
  {
   "cell_type": "code",
   "execution_count": 122,
   "id": "ba47432e",
   "metadata": {},
   "outputs": [
    {
     "data": {
      "text/html": [
       "<div>\n",
       "<style scoped>\n",
       "    .dataframe tbody tr th:only-of-type {\n",
       "        vertical-align: middle;\n",
       "    }\n",
       "\n",
       "    .dataframe tbody tr th {\n",
       "        vertical-align: top;\n",
       "    }\n",
       "\n",
       "    .dataframe thead th {\n",
       "        text-align: right;\n",
       "    }\n",
       "</style>\n",
       "<table border=\"1\" class=\"dataframe\">\n",
       "  <thead>\n",
       "    <tr style=\"text-align: right;\">\n",
       "      <th></th>\n",
       "      <th>oid</th>\n",
       "      <th>category</th>\n",
       "      <th>text</th>\n",
       "    </tr>\n",
       "  </thead>\n",
       "  <tbody>\n",
       "    <tr>\n",
       "      <th>1482</th>\n",
       "      <td>842513089</td>\n",
       "      <td>basketball</td>\n",
       "      <td>Питание – один из самых важных процессов в наш...</td>\n",
       "    </tr>\n",
       "    <tr>\n",
       "      <th>1601</th>\n",
       "      <td>31593254</td>\n",
       "      <td>boardgames</td>\n",
       "      <td>Приветствуем коллеги 33 А во что вы играли на ...</td>\n",
       "    </tr>\n",
       "    <tr>\n",
       "      <th>2110</th>\n",
       "      <td>845723373</td>\n",
       "      <td>martial_arts</td>\n",
       "      <td>Это первое интервью Мокаева в Дагестане Молодо...</td>\n",
       "    </tr>\n",
       "    <tr>\n",
       "      <th>2130</th>\n",
       "      <td>240880977</td>\n",
       "      <td>martial_arts</td>\n",
       "      <td>Вам не нужно теперь ломать голову что подарить...</td>\n",
       "    </tr>\n",
       "    <tr>\n",
       "      <th>3561</th>\n",
       "      <td>885529499</td>\n",
       "      <td>martial_arts</td>\n",
       "      <td>Расписание на вторник КРАСНАЯ ПРЕСНЯ 19. 00 ММ...</td>\n",
       "    </tr>\n",
       "    <tr>\n",
       "      <th>...</th>\n",
       "      <td>...</td>\n",
       "      <td>...</td>\n",
       "      <td>...</td>\n",
       "    </tr>\n",
       "    <tr>\n",
       "      <th>38566</th>\n",
       "      <td>217746176</td>\n",
       "      <td>esport</td>\n",
       "      <td>Будет 2 победителя Принять участие Включить ув...</td>\n",
       "    </tr>\n",
       "    <tr>\n",
       "      <th>38607</th>\n",
       "      <td>774280988</td>\n",
       "      <td>hockey</td>\n",
       "      <td>Смотрите матч Спартак – Зенит на Кинопоиске. Д...</td>\n",
       "    </tr>\n",
       "    <tr>\n",
       "      <th>38651</th>\n",
       "      <td>550304346</td>\n",
       "      <td>basketball</td>\n",
       "      <td>За кроссовками в Баскетбольный магазин Ghetto ...</td>\n",
       "    </tr>\n",
       "    <tr>\n",
       "      <th>38668</th>\n",
       "      <td>229536361</td>\n",
       "      <td>basketball</td>\n",
       "      <td>За жилетами в Баскетбольный магазин Ghetto Bas...</td>\n",
       "    </tr>\n",
       "    <tr>\n",
       "      <th>38726</th>\n",
       "      <td>792608859</td>\n",
       "      <td>basketball</td>\n",
       "      <td>За кроссовками в Баскетбольный магазин Ghetto ...</td>\n",
       "    </tr>\n",
       "  </tbody>\n",
       "</table>\n",
       "<p>431 rows × 3 columns</p>\n",
       "</div>"
      ],
      "text/plain": [
       "             oid      category  \\\n",
       "1482   842513089    basketball   \n",
       "1601    31593254    boardgames   \n",
       "2110   845723373  martial_arts   \n",
       "2130   240880977  martial_arts   \n",
       "3561   885529499  martial_arts   \n",
       "...          ...           ...   \n",
       "38566  217746176        esport   \n",
       "38607  774280988        hockey   \n",
       "38651  550304346    basketball   \n",
       "38668  229536361    basketball   \n",
       "38726  792608859    basketball   \n",
       "\n",
       "                                                    text  \n",
       "1482   Питание – один из самых важных процессов в наш...  \n",
       "1601   Приветствуем коллеги 33 А во что вы играли на ...  \n",
       "2110   Это первое интервью Мокаева в Дагестане Молодо...  \n",
       "2130   Вам не нужно теперь ломать голову что подарить...  \n",
       "3561   Расписание на вторник КРАСНАЯ ПРЕСНЯ 19. 00 ММ...  \n",
       "...                                                  ...  \n",
       "38566  Будет 2 победителя Принять участие Включить ув...  \n",
       "38607  Смотрите матч Спартак – Зенит на Кинопоиске. Д...  \n",
       "38651  За кроссовками в Баскетбольный магазин Ghetto ...  \n",
       "38668  За жилетами в Баскетбольный магазин Ghetto Bas...  \n",
       "38726  За кроссовками в Баскетбольный магазин Ghetto ...  \n",
       "\n",
       "[431 rows x 3 columns]"
      ]
     },
     "execution_count": 122,
     "metadata": {},
     "output_type": "execute_result"
    }
   ],
   "source": [
    "df_train[df_train.duplicated(keep=\"first\")]"
   ]
  },
  {
   "cell_type": "code",
   "execution_count": 123,
   "id": "a222b0ab",
   "metadata": {},
   "outputs": [
    {
     "data": {
      "text/plain": [
       "341"
      ]
     },
     "execution_count": 123,
     "metadata": {},
     "output_type": "execute_result"
    }
   ],
   "source": [
    "df_train[df_train.duplicated(keep=False)].shape[0]-df_train[df_train.duplicated(keep=\"first\")].shape[0]"
   ]
  },
  {
   "cell_type": "markdown",
   "id": "2440e8c1",
   "metadata": {},
   "source": [
    "- Всего 431 строк полных дубликатов.\n",
    "- 341 строка имеет в тренировочной выборке как минимум 1 дубликат.\n",
    "\n",
    "Удалим полные дубликаты и сохраним промежуточное состояние:"
   ]
  },
  {
   "cell_type": "code",
   "execution_count": 124,
   "id": "404fc3d1",
   "metadata": {},
   "outputs": [],
   "source": [
    "df_train_removed_dup = df_train.drop_duplicates(keep=\"first\")"
   ]
  },
  {
   "cell_type": "code",
   "execution_count": 125,
   "id": "3c1b4cf2",
   "metadata": {},
   "outputs": [
    {
     "data": {
      "text/plain": [
       "(38309, 3)"
      ]
     },
     "execution_count": 125,
     "metadata": {},
     "output_type": "execute_result"
    }
   ],
   "source": [
    "df_train_removed_dup.shape"
   ]
  },
  {
   "cell_type": "markdown",
   "id": "87a8a823",
   "metadata": {},
   "source": [
    "При удалении полных дубликатов, было удалено 431 строка (1%)."
   ]
  },
  {
   "cell_type": "markdown",
   "id": "eedac367",
   "metadata": {},
   "source": [
    "## [2] Дубликаты колонки text\n",
    "\n",
    "\n",
    "    Шаг 1. -  Нужно отфильтровать строки у которых различный `oid` но одинаковый `text` и `category`, оставив только одну.\n",
    "\n",
    "    Шаг 2. -  Удалить строки у которых разная `категория`, но одинаковый `текст`. Так как это неоднозначная ситуация и без вопросов заказчику и правильной постановки бизнес задачи, разрешить эту ситуацию не получится. Скорее всего такие строки были получены \"грубым\" сбором данных без должной валидации качества. Оставляя такие строки в тренировочной выборке будет сложно построить модель, которая дает адекватный прогноз."
   ]
  },
  {
   "cell_type": "markdown",
   "id": "885838da",
   "metadata": {},
   "source": [
    "#### Шаг 1. Фильтрация дубликатов колонки text, относящихся к одной категории"
   ]
  },
  {
   "cell_type": "code",
   "execution_count": 71,
   "id": "4af06215",
   "metadata": {},
   "outputs": [
    {
     "data": {
      "text/html": [
       "<div>\n",
       "<style scoped>\n",
       "    .dataframe tbody tr th:only-of-type {\n",
       "        vertical-align: middle;\n",
       "    }\n",
       "\n",
       "    .dataframe tbody tr th {\n",
       "        vertical-align: top;\n",
       "    }\n",
       "\n",
       "    .dataframe thead th {\n",
       "        text-align: right;\n",
       "    }\n",
       "</style>\n",
       "<table border=\"1\" class=\"dataframe\">\n",
       "  <thead>\n",
       "    <tr style=\"text-align: right;\">\n",
       "      <th></th>\n",
       "      <th>oid</th>\n",
       "      <th>category</th>\n",
       "      <th>text</th>\n",
       "    </tr>\n",
       "  </thead>\n",
       "  <tbody>\n",
       "    <tr>\n",
       "      <th>36144</th>\n",
       "      <td>345735095</td>\n",
       "      <td>autosport</td>\n",
       "      <td>. Фото 20 06 31. 12. 21 Привет владельцу жиги ...</td>\n",
       "    </tr>\n",
       "    <tr>\n",
       "      <th>8394</th>\n",
       "      <td>373777746</td>\n",
       "      <td>autosport</td>\n",
       "      <td>. Фото 20 06 31. 12. 21 Привет владельцу жиги ...</td>\n",
       "    </tr>\n",
       "    <tr>\n",
       "      <th>11628</th>\n",
       "      <td>675823274</td>\n",
       "      <td>extreme</td>\n",
       "      <td>. а вы знали что Эльбрус – вулкан в западной ч...</td>\n",
       "    </tr>\n",
       "    <tr>\n",
       "      <th>21677</th>\n",
       "      <td>871273064</td>\n",
       "      <td>extreme</td>\n",
       "      <td>. а вы знали что Эльбрус – вулкан в западной ч...</td>\n",
       "    </tr>\n",
       "    <tr>\n",
       "      <th>37735</th>\n",
       "      <td>839788862</td>\n",
       "      <td>winter_sport</td>\n",
       "      <td>10 летняя девочка стала самой молодой горнолыж...</td>\n",
       "    </tr>\n",
       "    <tr>\n",
       "      <th>...</th>\n",
       "      <td>...</td>\n",
       "      <td>...</td>\n",
       "      <td>...</td>\n",
       "    </tr>\n",
       "    <tr>\n",
       "      <th>32840</th>\n",
       "      <td>507721968</td>\n",
       "      <td>autosport</td>\n",
       "      <td>️Почему нельзя драпировать мавзолей Ленина оди...</td>\n",
       "    </tr>\n",
       "    <tr>\n",
       "      <th>35188</th>\n",
       "      <td>565049792</td>\n",
       "      <td>autosport</td>\n",
       "      <td>️Россия попала в ЗАПАДню Человеку непросто мен...</td>\n",
       "    </tr>\n",
       "    <tr>\n",
       "      <th>35720</th>\n",
       "      <td>911451284</td>\n",
       "      <td>autosport</td>\n",
       "      <td>️Россия попала в ЗАПАДню Человеку непросто мен...</td>\n",
       "    </tr>\n",
       "    <tr>\n",
       "      <th>1275</th>\n",
       "      <td>307949868</td>\n",
       "      <td>esport</td>\n",
       "      <td>️Скоро в VALORANT появится новый соревнователь...</td>\n",
       "    </tr>\n",
       "    <tr>\n",
       "      <th>23538</th>\n",
       "      <td>116229988</td>\n",
       "      <td>esport</td>\n",
       "      <td>️Скоро в VALORANT появится новый соревнователь...</td>\n",
       "    </tr>\n",
       "  </tbody>\n",
       "</table>\n",
       "<p>4233 rows × 3 columns</p>\n",
       "</div>"
      ],
      "text/plain": [
       "             oid      category  \\\n",
       "36144  345735095     autosport   \n",
       "8394   373777746     autosport   \n",
       "11628  675823274       extreme   \n",
       "21677  871273064       extreme   \n",
       "37735  839788862  winter_sport   \n",
       "...          ...           ...   \n",
       "32840  507721968     autosport   \n",
       "35188  565049792     autosport   \n",
       "35720  911451284     autosport   \n",
       "1275   307949868        esport   \n",
       "23538  116229988        esport   \n",
       "\n",
       "                                                    text  \n",
       "36144  . Фото 20 06 31. 12. 21 Привет владельцу жиги ...  \n",
       "8394   . Фото 20 06 31. 12. 21 Привет владельцу жиги ...  \n",
       "11628  . а вы знали что Эльбрус – вулкан в западной ч...  \n",
       "21677  . а вы знали что Эльбрус – вулкан в западной ч...  \n",
       "37735  10 летняя девочка стала самой молодой горнолыж...  \n",
       "...                                                  ...  \n",
       "32840  ️Почему нельзя драпировать мавзолей Ленина оди...  \n",
       "35188  ️Россия попала в ЗАПАДню Человеку непросто мен...  \n",
       "35720  ️Россия попала в ЗАПАДню Человеку непросто мен...  \n",
       "1275   ️Скоро в VALORANT появится новый соревнователь...  \n",
       "23538  ️Скоро в VALORANT появится новый соревнователь...  \n",
       "\n",
       "[4233 rows x 3 columns]"
      ]
     },
     "execution_count": 71,
     "metadata": {},
     "output_type": "execute_result"
    }
   ],
   "source": [
    "df_train_removed_dup[df_train_removed_dup.duplicated(subset=[\"text\", \"category\"], keep=False)].sort_values(\"text\")"
   ]
  },
  {
   "cell_type": "code",
   "execution_count": 97,
   "id": "cc5a9049",
   "metadata": {},
   "outputs": [],
   "source": [
    "df_train_removed_dup[df_train_removed_dup.duplicated(subset=[\"text\", \"category\"], keep=False)].sort_values(\"text\").to_csv(\"dup2.csv\")"
   ]
  },
  {
   "cell_type": "code",
   "execution_count": 74,
   "id": "0fc87f83",
   "metadata": {},
   "outputs": [
    {
     "data": {
      "text/plain": [
       "(35965, 3)"
      ]
     },
     "execution_count": 74,
     "metadata": {},
     "output_type": "execute_result"
    }
   ],
   "source": [
    "df_train_removed_dup2 = df_train_removed_dup.drop_duplicates(subset=[\"text\", \"category\"], keep=\"first\")\n",
    "df_train_removed_dup2.shape"
   ]
  },
  {
   "cell_type": "markdown",
   "id": "9e21a1ff",
   "metadata": {},
   "source": [
    "При удалении дубликатов по колонкам \"text\", \"category\", удалили 2344 строки (6 %)."
   ]
  },
  {
   "cell_type": "markdown",
   "id": "f3855aff",
   "metadata": {},
   "source": [
    "#### Шаг 2. Полное удаление дубликатов колонки text, относящихся к разным категориям\n"
   ]
  },
  {
   "cell_type": "code",
   "execution_count": 85,
   "id": "82412364",
   "metadata": {},
   "outputs": [
    {
     "data": {
      "text/html": [
       "<div>\n",
       "<style scoped>\n",
       "    .dataframe tbody tr th:only-of-type {\n",
       "        vertical-align: middle;\n",
       "    }\n",
       "\n",
       "    .dataframe tbody tr th {\n",
       "        vertical-align: top;\n",
       "    }\n",
       "\n",
       "    .dataframe thead th {\n",
       "        text-align: right;\n",
       "    }\n",
       "</style>\n",
       "<table border=\"1\" class=\"dataframe\">\n",
       "  <thead>\n",
       "    <tr style=\"text-align: right;\">\n",
       "      <th></th>\n",
       "      <th>oid</th>\n",
       "      <th>category</th>\n",
       "      <th>text</th>\n",
       "    </tr>\n",
       "  </thead>\n",
       "  <tbody>\n",
       "    <tr>\n",
       "      <th>9660</th>\n",
       "      <td>749181195</td>\n",
       "      <td>martial_arts</td>\n",
       "      <td>30 дней Okko бесплатно 33 Подключайтесь и смот...</td>\n",
       "    </tr>\n",
       "    <tr>\n",
       "      <th>7741</th>\n",
       "      <td>410518766</td>\n",
       "      <td>hockey</td>\n",
       "      <td>30 дней Okko бесплатно 33 Подключайтесь и смот...</td>\n",
       "    </tr>\n",
       "    <tr>\n",
       "      <th>7521</th>\n",
       "      <td>457739190</td>\n",
       "      <td>volleyball</td>\n",
       "      <td>60 дней Плюса Мульти в подарок по промокоду MY...</td>\n",
       "    </tr>\n",
       "    <tr>\n",
       "      <th>25576</th>\n",
       "      <td>863906059</td>\n",
       "      <td>esport</td>\n",
       "      <td>60 дней Плюса Мульти в подарок по промокоду MY...</td>\n",
       "    </tr>\n",
       "    <tr>\n",
       "      <th>12087</th>\n",
       "      <td>200619851</td>\n",
       "      <td>basketball</td>\n",
       "      <td>60 дней Плюса Мульти в подарок по промокоду MY...</td>\n",
       "    </tr>\n",
       "    <tr>\n",
       "      <th>...</th>\n",
       "      <td>...</td>\n",
       "      <td>...</td>\n",
       "      <td>...</td>\n",
       "    </tr>\n",
       "    <tr>\n",
       "      <th>8323</th>\n",
       "      <td>89193385</td>\n",
       "      <td>autosport</td>\n",
       "      <td>﻿Пришла беда откуда не ждали? ️Государство не ...</td>\n",
       "    </tr>\n",
       "    <tr>\n",
       "      <th>32678</th>\n",
       "      <td>419210277</td>\n",
       "      <td>boardgames</td>\n",
       "      <td>﻿⭐️ Россия обязана победить США на Украине ина...</td>\n",
       "    </tr>\n",
       "    <tr>\n",
       "      <th>34873</th>\n",
       "      <td>565049792</td>\n",
       "      <td>autosport</td>\n",
       "      <td>﻿⭐️ Россия обязана победить США на Украине ина...</td>\n",
       "    </tr>\n",
       "    <tr>\n",
       "      <th>978</th>\n",
       "      <td>624659062</td>\n",
       "      <td>autosport</td>\n",
       "      <td>﻿⭐️ Учитель с большой буквы Сколько денег вкла...</td>\n",
       "    </tr>\n",
       "    <tr>\n",
       "      <th>38666</th>\n",
       "      <td>639580360</td>\n",
       "      <td>boardgames</td>\n",
       "      <td>﻿⭐️ Учитель с большой буквы Сколько денег вкла...</td>\n",
       "    </tr>\n",
       "  </tbody>\n",
       "</table>\n",
       "<p>334 rows × 3 columns</p>\n",
       "</div>"
      ],
      "text/plain": [
       "             oid      category  \\\n",
       "9660   749181195  martial_arts   \n",
       "7741   410518766        hockey   \n",
       "7521   457739190    volleyball   \n",
       "25576  863906059        esport   \n",
       "12087  200619851    basketball   \n",
       "...          ...           ...   \n",
       "8323    89193385     autosport   \n",
       "32678  419210277    boardgames   \n",
       "34873  565049792     autosport   \n",
       "978    624659062     autosport   \n",
       "38666  639580360    boardgames   \n",
       "\n",
       "                                                    text  \n",
       "9660   30 дней Okko бесплатно 33 Подключайтесь и смот...  \n",
       "7741   30 дней Okko бесплатно 33 Подключайтесь и смот...  \n",
       "7521   60 дней Плюса Мульти в подарок по промокоду MY...  \n",
       "25576  60 дней Плюса Мульти в подарок по промокоду MY...  \n",
       "12087  60 дней Плюса Мульти в подарок по промокоду MY...  \n",
       "...                                                  ...  \n",
       "8323   ﻿Пришла беда откуда не ждали? ️Государство не ...  \n",
       "32678  ﻿⭐️ Россия обязана победить США на Украине ина...  \n",
       "34873  ﻿⭐️ Россия обязана победить США на Украине ина...  \n",
       "978    ﻿⭐️ Учитель с большой буквы Сколько денег вкла...  \n",
       "38666  ﻿⭐️ Учитель с большой буквы Сколько денег вкла...  \n",
       "\n",
       "[334 rows x 3 columns]"
      ]
     },
     "execution_count": 85,
     "metadata": {},
     "output_type": "execute_result"
    }
   ],
   "source": [
    "df_train_removed_dup2[df_train_removed_dup2.duplicated(subset=['text'], keep=False)].sort_values(\"text\")"
   ]
  },
  {
   "cell_type": "code",
   "execution_count": 87,
   "id": "354a4120",
   "metadata": {},
   "outputs": [],
   "source": [
    "df_train_removed_dup3 = df_train_removed_dup2.drop_duplicates(subset=['text'], keep=False)"
   ]
  },
  {
   "cell_type": "code",
   "execution_count": 88,
   "id": "3c13cb6e",
   "metadata": {},
   "outputs": [
    {
     "data": {
      "text/plain": [
       "(35631, 3)"
      ]
     },
     "execution_count": 88,
     "metadata": {},
     "output_type": "execute_result"
    }
   ],
   "source": [
    "df_train_removed_dup3.shape"
   ]
  },
  {
   "cell_type": "code",
   "execution_count": 116,
   "id": "46c21045",
   "metadata": {},
   "outputs": [],
   "source": [
    "df_train_removed_dup3.to_csv(\"../data/interim/train_no_dup.csv\")"
   ]
  },
  {
   "cell_type": "markdown",
   "id": "4e8f623d",
   "metadata": {},
   "source": [
    "Удалено 334 строки."
   ]
  },
  {
   "cell_type": "code",
   "execution_count": null,
   "id": "b4fd390c",
   "metadata": {},
   "outputs": [],
   "source": []
  }
 ],
 "metadata": {
  "kernelspec": {
   "display_name": "Python 3 (ipykernel)",
   "language": "python",
   "name": "python3"
  },
  "language_info": {
   "codemirror_mode": {
    "name": "ipython",
    "version": 3
   },
   "file_extension": ".py",
   "mimetype": "text/x-python",
   "name": "python",
   "nbconvert_exporter": "python",
   "pygments_lexer": "ipython3",
   "version": "3.9.17"
  }
 },
 "nbformat": 4,
 "nbformat_minor": 5
}
