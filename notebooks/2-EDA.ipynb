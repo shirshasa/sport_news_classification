{
 "cells": [
  {
   "cell_type": "code",
   "execution_count": 1,
   "id": "de64c415",
   "metadata": {},
   "outputs": [],
   "source": [
    "import pandas as pd\n",
    "import numpy as np\n",
    "import matplotlib.pyplot as plt\n",
    "\n",
    "import re"
   ]
  },
  {
   "cell_type": "code",
   "execution_count": 2,
   "id": "283f7869",
   "metadata": {},
   "outputs": [],
   "source": [
    "df_train = pd.read_csv(\"../data/interim/train_no_dup.csv\", index_col=0)\n",
    "df_train = df_train.reset_index()"
   ]
  },
  {
   "cell_type": "code",
   "execution_count": 3,
   "id": "9c2b6303",
   "metadata": {},
   "outputs": [
    {
     "data": {
      "text/plain": [
       "(35631, 4)"
      ]
     },
     "execution_count": 3,
     "metadata": {},
     "output_type": "execute_result"
    }
   ],
   "source": [
    "df_train.shape"
   ]
  },
  {
   "cell_type": "code",
   "execution_count": 4,
   "id": "a9f00edf",
   "metadata": {},
   "outputs": [
    {
     "data": {
      "text/html": [
       "<div>\n",
       "<style scoped>\n",
       "    .dataframe tbody tr th:only-of-type {\n",
       "        vertical-align: middle;\n",
       "    }\n",
       "\n",
       "    .dataframe tbody tr th {\n",
       "        vertical-align: top;\n",
       "    }\n",
       "\n",
       "    .dataframe thead th {\n",
       "        text-align: right;\n",
       "    }\n",
       "</style>\n",
       "<table border=\"1\" class=\"dataframe\">\n",
       "  <thead>\n",
       "    <tr style=\"text-align: right;\">\n",
       "      <th></th>\n",
       "      <th>index</th>\n",
       "      <th>oid</th>\n",
       "      <th>category</th>\n",
       "      <th>text</th>\n",
       "    </tr>\n",
       "  </thead>\n",
       "  <tbody>\n",
       "    <tr>\n",
       "      <th>0</th>\n",
       "      <td>0</td>\n",
       "      <td>365271984</td>\n",
       "      <td>winter_sport</td>\n",
       "      <td>Волшебные фото Виктория Поплавская ЕвгенияМедв...</td>\n",
       "    </tr>\n",
       "    <tr>\n",
       "      <th>1</th>\n",
       "      <td>1</td>\n",
       "      <td>503385563</td>\n",
       "      <td>extreme</td>\n",
       "      <td>Возвращение в подземелье Треша 33 Эйфория тупо...</td>\n",
       "    </tr>\n",
       "    <tr>\n",
       "      <th>2</th>\n",
       "      <td>2</td>\n",
       "      <td>146016084</td>\n",
       "      <td>football</td>\n",
       "      <td>Лучшие чешские вратари – Доминик Доминатор Гаш...</td>\n",
       "    </tr>\n",
       "    <tr>\n",
       "      <th>3</th>\n",
       "      <td>3</td>\n",
       "      <td>933865449</td>\n",
       "      <td>boardgames</td>\n",
       "      <td>Rtokenoid Warhammer40k валрак решил нас подкор...</td>\n",
       "    </tr>\n",
       "    <tr>\n",
       "      <th>4</th>\n",
       "      <td>4</td>\n",
       "      <td>713550145</td>\n",
       "      <td>hockey</td>\n",
       "      <td>Шестеркин затаскивает Рейнджерс в финал Восточ...</td>\n",
       "    </tr>\n",
       "    <tr>\n",
       "      <th>...</th>\n",
       "      <td>...</td>\n",
       "      <td>...</td>\n",
       "      <td>...</td>\n",
       "      <td>...</td>\n",
       "    </tr>\n",
       "    <tr>\n",
       "      <th>35626</th>\n",
       "      <td>38735</td>\n",
       "      <td>910636962</td>\n",
       "      <td>autosport</td>\n",
       "      <td>8 битная буря снова накрыла пикселями автомоби...</td>\n",
       "    </tr>\n",
       "    <tr>\n",
       "      <th>35627</th>\n",
       "      <td>38736</td>\n",
       "      <td>669736851</td>\n",
       "      <td>autosport</td>\n",
       "      <td>Ира Сидоркова объясняет как сказалась на ее ма...</td>\n",
       "    </tr>\n",
       "    <tr>\n",
       "      <th>35628</th>\n",
       "      <td>38737</td>\n",
       "      <td>558919241</td>\n",
       "      <td>tennis</td>\n",
       "      <td>24 я ракетка мира хорват Марин Чилич обыграл и...</td>\n",
       "    </tr>\n",
       "    <tr>\n",
       "      <th>35629</th>\n",
       "      <td>38738</td>\n",
       "      <td>776944963</td>\n",
       "      <td>volleyball</td>\n",
       "      <td>Стал известен календарь мужской сборной России...</td>\n",
       "    </tr>\n",
       "    <tr>\n",
       "      <th>35630</th>\n",
       "      <td>38739</td>\n",
       "      <td>577334983</td>\n",
       "      <td>hockey</td>\n",
       "      <td>Первенство ВХЛ. Первый этап Динамо Алтай Бн ЦС...</td>\n",
       "    </tr>\n",
       "  </tbody>\n",
       "</table>\n",
       "<p>35631 rows × 4 columns</p>\n",
       "</div>"
      ],
      "text/plain": [
       "       index        oid      category  \\\n",
       "0          0  365271984  winter_sport   \n",
       "1          1  503385563       extreme   \n",
       "2          2  146016084      football   \n",
       "3          3  933865449    boardgames   \n",
       "4          4  713550145        hockey   \n",
       "...      ...        ...           ...   \n",
       "35626  38735  910636962     autosport   \n",
       "35627  38736  669736851     autosport   \n",
       "35628  38737  558919241        tennis   \n",
       "35629  38738  776944963    volleyball   \n",
       "35630  38739  577334983        hockey   \n",
       "\n",
       "                                                    text  \n",
       "0      Волшебные фото Виктория Поплавская ЕвгенияМедв...  \n",
       "1      Возвращение в подземелье Треша 33 Эйфория тупо...  \n",
       "2      Лучшие чешские вратари – Доминик Доминатор Гаш...  \n",
       "3      Rtokenoid Warhammer40k валрак решил нас подкор...  \n",
       "4      Шестеркин затаскивает Рейнджерс в финал Восточ...  \n",
       "...                                                  ...  \n",
       "35626  8 битная буря снова накрыла пикселями автомоби...  \n",
       "35627  Ира Сидоркова объясняет как сказалась на ее ма...  \n",
       "35628  24 я ракетка мира хорват Марин Чилич обыграл и...  \n",
       "35629  Стал известен календарь мужской сборной России...  \n",
       "35630  Первенство ВХЛ. Первый этап Динамо Алтай Бн ЦС...  \n",
       "\n",
       "[35631 rows x 4 columns]"
      ]
     },
     "execution_count": 4,
     "metadata": {},
     "output_type": "execute_result"
    }
   ],
   "source": [
    "df_train"
   ]
  },
  {
   "cell_type": "code",
   "execution_count": 5,
   "id": "0bdb1980",
   "metadata": {},
   "outputs": [
    {
     "data": {
      "image/png": "[encoded data removed]",
      "text/plain": [
       "<Figure size 640x480 with 1 Axes>"
      ]
     },
     "metadata": {},
     "output_type": "display_data"
    }
   ],
   "source": [
    "fig, ax = plt.subplots()\n",
    "fig.suptitle(\"category\", fontsize=12)\n",
    "df_bar = df_train[\"category\"].reset_index().groupby(\"category\").count().sort_values(by=\"index\")\n",
    "df_bar.plot(kind=\"barh\", legend=False, ax=ax).grid(axis='x')\n",
    "plt.show()"
   ]
  },
  {
   "cell_type": "markdown",
   "id": "fa9b0902",
   "metadata": {},
   "source": [
    "Разница между самой многочесленной категорией и категорией с самым малым кол-вом объектов всего ~16%. Поэтому выборка можно считать слабо несбалансированной. Для построения безлайн модели можно обойтись без down-up-sampling методов. Однаком может понадобиться некоторая балансировка вероятностей и за целевую метрику лучше принять метрики устойчивые к дисбалансам классов: precision, recall, f1-score."
   ]
  },
  {
   "cell_type": "markdown",
   "id": "08256da2",
   "metadata": {},
   "source": [
    "# I. Поиск особенностей в тренировочной выборке"
   ]
  },
  {
   "cell_type": "markdown",
   "id": "59ab5a00",
   "metadata": {},
   "source": [
    "Посмотрим все объекты с oid 473121466."
   ]
  },
  {
   "cell_type": "code",
   "execution_count": 6,
   "id": "9a26c6c0",
   "metadata": {},
   "outputs": [
    {
     "data": {
      "text/html": [
       "<div>\n",
       "<style scoped>\n",
       "    .dataframe tbody tr th:only-of-type {\n",
       "        vertical-align: middle;\n",
       "    }\n",
       "\n",
       "    .dataframe tbody tr th {\n",
       "        vertical-align: top;\n",
       "    }\n",
       "\n",
       "    .dataframe thead th {\n",
       "        text-align: right;\n",
       "    }\n",
       "</style>\n",
       "<table border=\"1\" class=\"dataframe\">\n",
       "  <thead>\n",
       "    <tr style=\"text-align: right;\">\n",
       "      <th></th>\n",
       "      <th>index</th>\n",
       "      <th>oid</th>\n",
       "      <th>category</th>\n",
       "      <th>text</th>\n",
       "    </tr>\n",
       "  </thead>\n",
       "  <tbody>\n",
       "    <tr>\n",
       "      <th>42</th>\n",
       "      <td>42</td>\n",
       "      <td>473121466</td>\n",
       "      <td>volleyball</td>\n",
       "      <td>hq от подписчика каверопенинга Вашему вниманию...</td>\n",
       "    </tr>\n",
       "    <tr>\n",
       "      <th>10076</th>\n",
       "      <td>10535</td>\n",
       "      <td>473121466</td>\n",
       "      <td>volleyball</td>\n",
       "      <td>hq от подписчика хочу снова поделиться рисуноч...</td>\n",
       "    </tr>\n",
       "    <tr>\n",
       "      <th>16970</th>\n",
       "      <td>17926</td>\n",
       "      <td>473121466</td>\n",
       "      <td>volleyball</td>\n",
       "      <td>hq Сама решила сделать картиночки если надо ск...</td>\n",
       "    </tr>\n",
       "    <tr>\n",
       "      <th>21424</th>\n",
       "      <td>22757</td>\n",
       "      <td>473121466</td>\n",
       "      <td>volleyball</td>\n",
       "      <td>hq день почти подошел к концу в моем городе а ...</td>\n",
       "    </tr>\n",
       "  </tbody>\n",
       "</table>\n",
       "</div>"
      ],
      "text/plain": [
       "       index        oid    category  \\\n",
       "42        42  473121466  volleyball   \n",
       "10076  10535  473121466  volleyball   \n",
       "16970  17926  473121466  volleyball   \n",
       "21424  22757  473121466  volleyball   \n",
       "\n",
       "                                                    text  \n",
       "42     hq от подписчика каверопенинга Вашему вниманию...  \n",
       "10076  hq от подписчика хочу снова поделиться рисуноч...  \n",
       "16970  hq Сама решила сделать картиночки если надо ск...  \n",
       "21424  hq день почти подошел к концу в моем городе а ...  "
      ]
     },
     "execution_count": 6,
     "metadata": {},
     "output_type": "execute_result"
    }
   ],
   "source": [
    "df_train[df_train.oid == 473121466]"
   ]
  },
  {
   "cell_type": "markdown",
   "id": "216dd174",
   "metadata": {},
   "source": [
    "#### Выглядит как подписи к постам в инстаграм. Не ясна почему добавлена метка volleyball\n",
    "#### Повторяется мусорное hq, посмотрим где еще в трейне в тексте содержиться hq?\n",
    "\n",
    "    -> в основном в метках volleyball\n",
    "    -> многие записи выглядят как комментарии, некоторые как реклама"
   ]
  },
  {
   "cell_type": "code",
   "execution_count": 7,
   "id": "8f3c639b",
   "metadata": {},
   "outputs": [
    {
     "name": "stdout",
     "output_type": "stream",
     "text": [
      "- Rtokenoid Warhammer40k валрак решил нас подкормить не сильно свежими слухами а именно составом новой коробки грядущего обновления Имперской Гвардии. Слух практически идентичен августовский информации \n",
      "- hq от подписчика каверопенинга Вашему вниманию лучший на мой взгляд кавер от подписчика 33 Кавер на Hatokenoid 33 33 Season 4 от команды MUSEN\n",
      "- hq от подписчика Хэ скоро в школу Админ не доводи людей до депрессии\n",
      "- hq Капец мне сегодня исполнилось 15 лет. С днем рождения меня ️ ️\n",
      "- hq вот и все ребят спасибо что были со мной в этот день\n",
      "- hq Нашла классного бота с Кенмой tokentokenoid Покидайте ботов других персонажей?\n",
      "- hq от подписчика Аэа просто хотела поделиться любимцами\n",
      "- hq Если ваша вечеринка не похожа на вот это вот все то не зовите меня\n",
      "- hq Привет ребятки мои любимые я один из редакторов этого паблика вы видите мое имя почти под каждым постом МНЕ НАКОНЕЦ ТО ИСПОЛНИЛОСЬ 16 трутутутуту существую тут уже года три кстати сменилось много р\n",
      "- hq от подписчика можно я тут поделюсь своими рисуночками с сугой?\n",
      "- hq др ребятки как вы кстати празднуете свои дни рождения? я возможно поеду со своими друзьями на базу отдыха а пока радую вас крутыми постами\n",
      "- hq от подписчика хочу снова поделиться рисуночками на этот раз сугавара и ямагучи p. s. админу чмок\n",
      "- hq Автор решила сделать себе подарок и прифотошопить кенму на фотку. Очень люблю этого персонажа рада что он дает мне улыбку уже несколько лет ️\n",
      "- hq Лето прошло слишком быстро надеюсь что и учебный пройдет быстрее\n",
      "- hq Автор решила сделать себе подарок и прифотошопить кенму на фотку. Очень люблю этого персонажа. Рада что он дает мне улыбку уже несколько лет ️\n",
      "- hq от подписчика Можно ли поделиться своим косплеем? Волейбол один из моих любимых тайтлов Админ просто прекрасно\n",
      "- hq hatokenoid Друзья 33 Хочу чтобы вы обратили внимание на этот пост и внимательно прочитали содержимое в нем. На протяжении нескольких лет эта группа процветает и набирает аудиторию. Хотелось бы узна\n",
      "- hq Очень рада небольшому возрождению и оживлению фандома нарисовала картиночку с тамагочи с мальчиками 33 Художница Рыбка Анья на утесе\n",
      "- hq мы снова тут не теряем ребят у нас были выходные теперь я снова в деле\n",
      "- hq Сама решила сделать картиночки если надо скину ориг в ком.\n",
      "- hq день почти подошел к концу в моем городе а значит и др мой тоже. . . . .\n",
      "- hq от подписчика Решила сделать арт по волейболу наконец 33 Прошу оценить Мы. . . все мы шестеро наконец то можем сыграть на волейбольной площадке. Первая игра вторая. Будем побеждать и побеждать. И б\n",
      "- hq Вопрос с 9 11 классникам. Куда собираетесь поступать?\n",
      "- hq в день рождения мне всегда бывает немного одиноко но эти парни скрасят этот день\n",
      "- hq Этот день наступил. . . ️ Надеюсь это лето будет лучшим для всех нас\n",
      "- hq от подписчика прошу оценить 33 прости что поздно выложили 39\n",
      "- hq happy tokenoid Привет ребятки мои любимые я один из редакторов этого паблика вы видите мое имя почти под каждым постом МНЕ НАКОНЕЦ ТО ИСПОЛНИЛОСЬ 16 трутутутуту существую тут уже года три кстати см\n"
     ]
    }
   ],
   "source": [
    "for text in df_train[df_train.text.apply(lambda x: \"hq\" in x)].text.values:\n",
    "    print('-', text[:200])"
   ]
  },
  {
   "cell_type": "markdown",
   "id": "bb958788",
   "metadata": {},
   "source": [
    "### Посмотрим что входит в категорию volleyball"
   ]
  },
  {
   "cell_type": "code",
   "execution_count": 55,
   "id": "8e731c0c",
   "metadata": {},
   "outputs": [
    {
     "name": "stdout",
     "output_type": "stream",
     "text": [
      "- Последний день заявочной кампании на Финал Чемпионата России по волейболу на снегу 31 марта 2 апреля на горнолыжном курорте Шерегеш в Кемеровской области закрываем сезон Бонус призовой фонд увеличен П\n",
      "- МНЕ ЗАПРЕТИЛИ ИГРАТЬ С КАМЕРОЙ? Жирный профи НЕ притворился новичком\n",
      "- Болл – старший тренер Урала ️ Бывший волейболист Урала и казанского Зенита Ллой Болл вошел в тренерский штаб Урала. Он будет помогать Юрию Лисицкому и Владиславу Макарову в конце чемпионата. Соглашени\n",
      "- hq от подписчика каверопенинга Вашему вниманию лучший на мой взгляд кавер от подписчика 33 Кавер на Hatokenoid 33 33 Season 4 от команды MUSEN\n",
      "- Результаты матчей второго игрового дня 29 июня третей игровой недели женской Лиги наций 2022 Калгари Группа 5 Япония Нидерланды 2 3 25 23 20 25 26 24 21 25 10 15 Бельгия США 0 3 16 25 21 25 19 25 Софи\n",
      "- Завершаем пляжный марафон в Анапе Смотри все решающие встречи BetBoom этапа Чемпионата России на Матч Страна и ТВ Старт\n",
      "- К сожалению в это сезоне Кубок ЕКВ нам не подарит российский финал так что придется довольствоваться лишь отечественным четвертьфиналом Как прошел первый матч между Зенит Казань и Кузбассом вы узнаете\n",
      "- Лига чемпионов 2022 2023. Мужчины Кнак Тур Расписание матчей турнирные таблицы\n",
      "- На церемонии награждения что состоялась по окончанию финального матча Чемпионата Мира по волейболу была представлена символическая сборная турнира Эта тема вызвала серьезные споры в интернете к которы\n",
      "- 4х2Mtokenoid 3 A. Награждение. За 1 е место команда Спайк получила приз сертификат на сумму 1000 рублей в бильярдный зал 50 50. Поздравляем 33 Подробнее Фото Дмитрий Забелин. 19. 03. 2022. nvtokenoid\n",
      "- Друзья всем привет Потихоньку запускаю телеграм канал с дополнительными скидками для торговой площадки Ozon Если вы еще не являетесь клиентом Ozon то настоятельно рекомендую присоединиться к этой площ\n",
      "- Серия кресел Legend от бренда KARNOX – это легендарный комфорт и стиль. За счет высокой спинки увеличенного посадочного места поддержки поясницы и мягкого подголовника вам не придется отвлекаться на н\n",
      "- hq от подписчика Хэ скоро в школу Админ не доводи людей до депрессии\n",
      "- Еврокубки от самострела до фэйр плэй Из трех матчей российских женских волейбольных команд в Лиге чемпионов на этой неделе состоится только один. С двумя другими приключились разные истории показывающ\n",
      "- Перед началом летнего сезона очень может пригодиться это приложение 33 Табло для классического волейбола пляжного волейбола паркового волейбола в вашем смартфоне 33 Возможность выбора цвета команды ко\n",
      "- Статистика матча К сожалению уступили во всех компонентах. Разве только собственных ошибок сделали меньше\n",
      "- Раз в Калининграде так любят волейбол значит и пляжка без внимания не останется Квалификация Смотри матчи основной сетки завтра с утра на tokentokenoid\n",
      "- Вот это прыжок Хочешь тоже доставать рукой 380 см и при этом иметь крепкие суставы? Проголосуй и напиши в комментариях\n",
      "- Не спрашиваю про того кто справа. Но парнишку слева признали?\n",
      "- Приглашаем сильную команду для участия в мужском турнире 28 мая. База Локомотива. С 14 45 до 18 00. Взнос 1600 с команды.\n"
     ]
    }
   ],
   "source": [
    "for text in df_train[df_train.category == \"volleyball\"][:20].text.values:\n",
    "    print('-', text[:200])"
   ]
  },
  {
   "cell_type": "markdown",
   "id": "374085df",
   "metadata": {},
   "source": [
    "> Первые 20 сэмплов категории воллейбол, показывают, что к этой категории и правда принадлежат выписки из новостей о воллейболе, скорее всего объекты с oid == 473121466 - это выбросы\n",
    "\n",
    "> Заметим, что кроме выбросов присутсвуют объекты, чью категорию сложно определить: `'Лига чемпионов 2022 2023. Мужчины Кнак Тур Расписание матчей турнирные таблицы'`.\n",
    "Этот пример может приниадлежать любой из категорий (лига чемпионов, турнирные таблицы и т.д могу принадлежать любому виду спорта): tennis, hockey, volleyball, football, basketball, ...\n",
    "Если Кнак Тур - это не часто повторяющееся название воллейбольных турниров, тогда будет невозможно однозначно определить категорию этого объекта."
   ]
  },
  {
   "cell_type": "markdown",
   "id": "5ee14ab6",
   "metadata": {},
   "source": [
    "#### Еще один интересный oid  (рекламные посты) и tokenid"
   ]
  },
  {
   "cell_type": "code",
   "execution_count": 52,
   "id": "aea102ca",
   "metadata": {},
   "outputs": [
    {
     "name": "stdout",
     "output_type": "stream",
     "text": [
      "- Ломаете голову над подарком для коллеги или друга а времени остается совсем немного? 33 ⠀ Нет лучше \n",
      "- КАК ПОДОБРАТЬ СЕБЕ ШЛЕМ по размеру какие нюансы при выборе шлема влияют на его размер узнаем в этом \n",
      "- Впереди столько праздников 33 И перед каждым встает задача выбрать достойный подарок для близких люд\n",
      "- Готовимся к зимним покатушкам с брендом Atokenoid. ⠀⠀ Покрытие устойчивое к механическим повреждения\n",
      "- Бренд SHIMA Шима Польша существует с 2009 года. ⠀ На данный момент экипировка этой марки продается в\n",
      "- Компания HYPERLOOK в 2011 году первой запустила производство мотоэкипировки на территории Российской\n",
      "- Спортивные перчатки из козьей кожи и текстиля. ⠀ Легкая внутренняя тканевая подкладка Ладонь из кожи\n",
      "- Stokenoid EXO 930 SOLID это шлем модуляр созданный по запросу пользователей предыдущей модели EXO 90\n",
      "- Компания основана в Канаде стране где лучше всего знают каким должен быть шлем для снегохода. ⠀ Осно\n",
      "- Поздравляем С Днем Защитника Отечества 33 ⠀ Желаем мирного неба над головой 33 ⠀ Напоминаем 33 В наш\n"
     ]
    }
   ],
   "source": [
    "for text in df_train[df_train.oid == 753904581].text.values:\n",
    "    print('-', text[:100])"
   ]
  },
  {
   "cell_type": "markdown",
   "id": "a6dd8dae",
   "metadata": {},
   "source": [
    "### Гипотезы:\n",
    "- tokentokenoid - маска для url сайта ?\n",
    "- motoektokenoid - маска для определенного мото сайта ?"
   ]
  },
  {
   "cell_type": "markdown",
   "id": "b1244557",
   "metadata": {},
   "source": [
    "### Категория - martial_arts"
   ]
  },
  {
   "cell_type": "code",
   "execution_count": 60,
   "id": "2201c51b",
   "metadata": {},
   "outputs": [
    {
     "name": "stdout",
     "output_type": "stream",
     "text": [
      "- Майк Тайсон переоценен и не смог бы победить в бою с сегодняшними гигантами?\n",
      "- КУДО В БОЛГАРИИ Чемпионат и Первенство Болгарии по кудо от 1 мая 2022 года\n",
      "- КОНКУРС УГАДАЙКА десять айфонов и ГЛАВНЫЙ ПРИЗ ЛЯГУШОНОК. Удачи друг смотри ниже там больше инфы ВСЕ\n",
      "- Смотреть Полный Бой ПОРЬЕ vs ЧЕНДЛЕР. Прямой Эфир UFC 281\n",
      "- Майкл Биспинг оценил шансы Грина в бою с Махачевым Экс чемпион UFC в среднем весе Майкл Биспинг дал \n",
      "- Этот день в истории Ровно 98 лет тому назад на первомайскую демонстрацию вышли боксеры рабочего союз\n",
      "- Обучающие видео Удар с разворота в корпус соперника Удары локтями в гарде оппонента Удар ногой по пе\n",
      "- Крутейшее видео Скоро выйдет вторая часть а эту просмотрел на одном дыхании Atokenoid StevenSeagal С\n",
      "- Коди Стэменн побеждает Эдди Вайнлэнду техническим нокаутом в первом раунде 33\n",
      "- ПРАВИЛА ФОТОГРАФИРОВАНИЯ С СЕНСЕЕМ Автор Lee Attey Перевод Татьяна Тропина 27 февраля 2014 В каждой \n",
      "- ПОДПИСЫВАЙТЕСЬ 33 Все самое лучшее у нас в группе 33 Паблик посвящен лучшему бойцу смешанных единобо\n",
      "- WBO Әлімханұлына чемпиондық айқас белгіледі. Astana Artokenoid Бүкіләлемдік бокс ұйымы WBO орта салм\n",
      "- На уровне зеленого пояса происходит первое выделение инструкторов которым разрешено обучать и аттест\n",
      "- Уличные парни – отличные прикладные психологи которые влет оценивают человека и прикидывают кто из н\n",
      "- Kaк тpениpуетtokenoid oбычный пapень из деpевни глaвнoе желaние. UC\n",
      "- Лаша Шавдатуашвили победитель большого шлема в Тбилиси 2022 33 ️ Очередная золота медаль для легенды\n",
      "- Бывший тренер Головкина Геннадий не боксер Абель Санчес бывший тренер чемпиона мира по версии IBF в \n",
      "- Я ВЕЛИЧАЙШИЙ 33 Я говорил это еще до того как узнал что это правда с Мохаммед Али\n",
      "- 1 апреля 1912 года резиденты петербургского спортивного общества Санитас Santokenoid Иван Граве Алек\n",
      "- Люди нaпишут eще миллиoны книг нo вкуc пoбeды нe oпишeт никтo. . wrest\n"
     ]
    }
   ],
   "source": [
    "for text in df_train[df_train.category ==\"martial_arts\"][2700:2720].text.values:\n",
    "    print('-', text[:100])"
   ]
  },
  {
   "cell_type": "markdown",
   "id": "a3721bb7",
   "metadata": {},
   "source": [
    "> Новости спорта перемешаны с рекламой.\n",
    "\n",
    "Еще интересное из данной категории:\n",
    "\n",
    "* 'Уязвимые точки тела Теория уязвимых точек проистекает из многовековой практики мастеров акупунктуры чжэнь цзю терапии. Суть ее вкратце сводится к тому что в теле человека заключены 12 жизненно важных органов сердце печень легкие и т. д соответствующих знакам Зодиака. Нервные окончания связывают каждый из этих органов с несколькими десятками точек разбросанных по всему телу. Воздействие на них приводит к воздействию на сам орган.'\n",
    "* 'Интересное с Atokenoid полезная группа Заходи скорее tokenoidtokenoid',\n",
    "* Кристин Фереа vs. Тайлор Старлинг. Чемпионский бой. BKFC 28.',\n",
    "* 'Конкурентов не нужно опасаться. Пользуйтесь их опытом и учитесь на их ошибках чтобы сделать ваш продукт уникальным.',\n",
    "* 'Наши достижения всегда соответствуют нашим амбициям. Андрей Курпатов'"
   ]
  },
  {
   "cell_type": "markdown",
   "id": "78020254",
   "metadata": {},
   "source": [
    "### Category - martial_arts, esport-> много мусорных объектов (реклама, комментарии)"
   ]
  },
  {
   "cell_type": "markdown",
   "id": "130a2948",
   "metadata": {},
   "source": [
    "### Сколько oid входят в каждую из категорий?"
   ]
  },
  {
   "cell_type": "code",
   "execution_count": 17,
   "id": "f4596f4b",
   "metadata": {},
   "outputs": [
    {
     "data": {
      "text/plain": [
       "category\n",
       "athletics       297\n",
       "autosport       316\n",
       "basketball      285\n",
       "boardgames      302\n",
       "esport          299\n",
       "extreme         311\n",
       "football        286\n",
       "hockey          295\n",
       "martial_arts    305\n",
       "motosport       303\n",
       "tennis          300\n",
       "volleyball      295\n",
       "winter_sport    280\n",
       "dtype: int64"
      ]
     },
     "execution_count": 17,
     "metadata": {},
     "output_type": "execute_result"
    }
   ],
   "source": [
    "df_train.groupby([\"category\"]).apply(lambda x: len(x.oid.unique()))"
   ]
  },
  {
   "cell_type": "markdown",
   "id": "b3d15ef1",
   "metadata": {},
   "source": [
    "Каждая категория содержит примерно одинаковое колличество различных oid."
   ]
  },
  {
   "cell_type": "markdown",
   "id": "c3ab2184",
   "metadata": {},
   "source": [
    "### Заключение № 1\n",
    "\n",
    "1. Представлен набор текстов из различных сайтов.\n",
    "2. Каждому тексту присвоена категория.\n",
    "3. Все тексты можно также разделить на 3 группы: новостные посты, реклама, комментарии, комментарии в блоге.\n",
    "4. Данные очень шумные, в некоторых категориях нельзя различить реальной зависимости.\n",
    "5. Были найдены некоторые маски (скорее всего замаскированные ссылки): nvtokenoid, tokentokenoid, ...\n",
    "6. В текст входят различные английские токены, что может быть хорошим признаком того, что текст является рекламой. Однаком здесь требуется дополнительный анализ."
   ]
  },
  {
   "cell_type": "markdown",
   "id": "96403160",
   "metadata": {},
   "source": [
    "# II. Определение значимости tokenid токенов"
   ]
  },
  {
   "cell_type": "code",
   "execution_count": 18,
   "id": "c514f5c6",
   "metadata": {},
   "outputs": [],
   "source": [
    "def get_eng(row):\n",
    "    \n",
    "    tmp = re.sub(r'[^a-zA-Z]+( |)', ' ', row)\n",
    "    tmp = tmp.strip().lower()\n",
    "    return tmp\n",
    "\n",
    "eng_texts = df_train.text.apply(lambda x:get_eng(x)).values\n",
    "eng_texts = [x for x in eng_texts if x]"
   ]
  },
  {
   "cell_type": "code",
   "execution_count": 19,
   "id": "61364786",
   "metadata": {},
   "outputs": [
    {
     "data": {
      "text/plain": [
       "19062"
      ]
     },
     "execution_count": 19,
     "metadata": {},
     "output_type": "execute_result"
    }
   ],
   "source": [
    "len(eng_texts)"
   ]
  },
  {
   "cell_type": "code",
   "execution_count": 20,
   "id": "2c33774e",
   "metadata": {},
   "outputs": [],
   "source": [
    "eng_tokens = \" \".join(eng_texts).split(\" \")\n",
    "eng_tokens = [x for x in eng_tokens if len(x) > 2]"
   ]
  },
  {
   "cell_type": "code",
   "execution_count": 21,
   "id": "a26aaf19",
   "metadata": {},
   "outputs": [],
   "source": [
    "eng_tokens_index, eng_counts = np.unique(eng_tokens, return_counts=True,)\n",
    "count_sort_ind = np.argsort(-eng_counts)"
   ]
  },
  {
   "cell_type": "markdown",
   "id": "63578f7c",
   "metadata": {},
   "source": [
    "### Top 100  токенов в текстах"
   ]
  },
  {
   "cell_type": "code",
   "execution_count": 22,
   "id": "be349945",
   "metadata": {},
   "outputs": [
    {
     "data": {
      "text/plain": [
       "array(['tokentokenoid', 'rtokenoid', 'tokenoidtokenoid', 'tokenoid',\n",
       "       'motogp', 'atokenoid', 'stokenoid', 'tetokenoid', 'ratokenoid',\n",
       "       'hotokenoid', 'ftokenoid', 'btokenoid', 'ufc', 'dtokenoid',\n",
       "       'mtokenoid', 'open', 'motoektokenoid', 'speetokenoid',\n",
       "       'votokenoid', 'ntokenoid', 'sport', 'red', 'ctokenoid', 'wta',\n",
       "       'the', 'newstokentokenoid', 'atp', 'wortokenoid', 'team',\n",
       "       'ferrari', 'news', 'hontokenoid', 'ptokenoid', 'wtokenoid',\n",
       "       'yamaha', 'yotokenoid', 'ltokenoid', 'ktokenoid', 'lamppost',\n",
       "       'moto', 'mertokenoid', 'qtokenoid', 'etokenoid', 'pro',\n",
       "       'vtokenoid', 'ttokenoid', 'warhammer', 'gtokenoid', 'drtokenoid',\n",
       "       'fia', 'nba', 'parkrtokenoid', 'komtokenoid', 'utokenoid', 'tcr',\n",
       "       'htokenoid', 'otokenoid', 'aprtokenoid', 'gotokenoid',\n",
       "       'nvtokenoid', 'ktm', 'matokenoid', 'formtokenoid', 'fatokenoid',\n",
       "       'hetokenoid', 'metokenoid', 'tratokenoid', 'sports', 'games',\n",
       "       'motorsport', 'whtokenoid', 'twtokenoid', 'rotokenoid', 'mvp',\n",
       "       'prtokenoid', 'haas', 'motokenoid', 'aftg', 'setokenoid',\n",
       "       'instagram', 'sttokenoid', 'evgentokenoid', 'mma', 'brtokenoid',\n",
       "       'satokenoid', 'nascar', 'chtokenoid', 'bmw', 'sptokenoid',\n",
       "       'smpratokenoid', 'ibu', 'internattokenoid', 'espn', 'betokenoid',\n",
       "       'dota', 'retokenoid', 'wsbk', 'beatokenoid', 'keepthebatokenoid',\n",
       "       'repsol'], dtype='<U26')"
      ]
     },
     "execution_count": 22,
     "metadata": {},
     "output_type": "execute_result"
    }
   ],
   "source": [
    "eng_tokens_index[count_sort_ind][:100]"
   ]
  },
  {
   "cell_type": "code",
   "execution_count": 23,
   "id": "0b167fbf",
   "metadata": {},
   "outputs": [
    {
     "data": {
      "text/plain": [
       "array([4458, 2692, 2637, 2580, 1520, 1130, 1125,  989,  930,  899,  867,\n",
       "        837,  789,  715,  707,  594,  555,  520,  515,  481,  480,  473,\n",
       "        467,  467,  437,  425,  412,  406,  401,  401,  390,  378,  374,\n",
       "        363,  356,  343,  340,  318,  311,  303,  303,  299,  288,  275,\n",
       "        255,  251,  246,  242,  222,  215,  211,  209,  209,  188,  188,\n",
       "        186,  183,  181,  180,  171,  169,  169,  169,  169,  164,  160,\n",
       "        157,  137,  137,  135,  132,  130,  123,  122,  121,  119,  117,\n",
       "        117,  116,  116,  115,  115,  114,  110,  109,  106,  104,  104,\n",
       "        104,  102,  101,  100,   98,   98,   98,   97,   96,   96,   96,\n",
       "         96])"
      ]
     },
     "execution_count": 23,
     "metadata": {},
     "output_type": "execute_result"
    }
   ],
   "source": [
    "eng_counts[count_sort_ind][:100]"
   ]
  },
  {
   "cell_type": "code",
   "execution_count": 24,
   "id": "b27e8a1a",
   "metadata": {},
   "outputs": [],
   "source": [
    "TOKEN_IDS = [x for x in eng_tokens_index if x.endswith(\"id\")]"
   ]
  },
  {
   "cell_type": "code",
   "execution_count": 25,
   "id": "3c167762",
   "metadata": {},
   "outputs": [
    {
     "data": {
      "text/plain": [
       "1739"
      ]
     },
     "execution_count": 25,
     "metadata": {},
     "output_type": "execute_result"
    }
   ],
   "source": [
    "len(TOKEN_IDS)"
   ]
  },
  {
   "cell_type": "code",
   "execution_count": 27,
   "id": "4fdaa065",
   "metadata": {},
   "outputs": [
    {
     "data": {
      "text/plain": [
       "3874"
      ]
     },
     "execution_count": 27,
     "metadata": {},
     "output_type": "execute_result"
    }
   ],
   "source": [
    "len(df_train.oid.unique())"
   ]
  },
  {
   "cell_type": "markdown",
   "id": "280b0b57",
   "metadata": {},
   "source": [
    "### Заключение №2\n",
    "\n",
    "1. В текстах замаскированы скорее всего ссылки на сайты в виде site_name+tokenid (далее будет называть их tokenid)\n",
    "2. Различных oid больше чем различных tokenid\n",
    "3. Гипотеза: tokenid может быть также эмоджи.\n",
    "4. Уникальных tokenid слишком много, чтобы выделить их в отдельный признак-категорию. Поэтому при подготовке данных, очистим поле text от tokenid.\n",
    "5. Возможно tokenid может быть хорошим признаком, но здесь нужна дополнительная информация: постановка бизнес задачи и информация о сборе данных. Для построения бейзлайна, будет достаточно принять гипотезу что tokenid - это замаскированная ссылка и во избежании переобучения ее стоит убрать из текста."
   ]
  },
  {
   "cell_type": "markdown",
   "id": "16429efa",
   "metadata": {},
   "source": [
    "# III. Просмотр всех категорий"
   ]
  },
  {
   "cell_type": "code",
   "execution_count": 30,
   "id": "2094bffa",
   "metadata": {},
   "outputs": [
    {
     "name": "stdout",
     "output_type": "stream",
     "text": [
      "------------------------------------- WINTER_SPORT -------------------------------------\n",
      "['Волшебные фото Виктория Поплавская ЕвгенияМедведева Evgentokenoid'\n",
      " 'Для ребят из Курска и ближайших городов может кому интересно Серебряный призер Олимпийских Игр в Пекине в смешанной команде Евгений Климов посетит спортивный городок в Курске на театральной площади Курские известияtokenoid Курска В Курске 26 июня перед Драмтеатром поставят спортивный городок Курск станет главным городом празднования Всероссийского Олимпийского дня в стране. Праздничную площадку организуют на Театральной площади и стадионе Трудовые резервы. Перед драмтеатром появится городок с экспозициями разных видов спорта срди прочих покажут керлинг прыжки на лыжах бобслей санный спорт пятиборье. На Трудовых резервах пройдут соревнования по баскетболу 3х3 мини футболу лапте легкой атлетике тэг регби также здесь разместятся выставки конного спорта и стрельбы из лука. План мероприятий и другие вопросы на совещании с представителями региональных спортивных федераций обсуждал административный директор ntokenoid руководитель организационного управления Олимпийского комитета России Игорь Степанов. Президент Олимпийского комитета России четырехкратный чемпион Игр Станислав Поздняков предложил организовать главную площадку 33 го Олимпийского дня в Курске. Мы хотим чтобы этот праздник стал ярким событием. Ваша область приграничная поэтому мы решили таким образом поддержать курян. Должно получится красочное мероприятие гостями которого вместе с жителями города и области станут свыше 40 чемпионов и призеров Олимпийских игр отметил Игорь Степанов Среди олимпийцев призер прошедших игр в Пекине Евгений Климов'\n",
      " 'Друзья 33 От лица всей младшей японской команды передаю вам просьбу. Если у вас есть инстаграм то пожалуйста выложите в истории любую фотографию Сары с этим хештегом 大好き沙羅さん и отметьте аккаунт Сары. Хештег значит Сара я тебя люблю Можете написать это на любом языке если хотите. Нет слов описать как больно смотреть на слезы этой девочки. Она всегда была и будет самой лучшей. Спасибо ️ 大好き沙羅さん'\n",
      " 'Пока мы боремся с перебоями Инстаграм и блокировкой Твиттера вот вам порция красоты Все будет хорошо tokenoid Instagram'\n",
      " 'МихаилГаврилов ТатьянаТотьмянина Поздравляем с Днем Рождения Михаила Гаврилова 33 Пс От жары у админа малость голова поехала Кто знает тот знает'\n",
      " 'Короткое интервью про ЗОЖ Небольшой опросник от фармацевтической компании TOWA Юдзуру рассказывает о психологической разгрузке борьбе или не совсем с соблазнами и веселой физнагрузке дома Перевод и субтитры Ксения Севостьянова ytokenoid ptokenoid 羽生結弦 team hanyu tokenoid'\n",
      " 'Мартен Фуркад принял участие в трейловом велозаезде. Сегодня я надел биб впервые с этапа в Контиолахти в 2020 м но амбиции были совсем другими Просто желание разделить спортивное приключение с друзьями. Странно но я считаю что хотя пристрастие к нагрузкам и спорту навсегда укоренилось во мне я по другому ощущаю потребность оценивать себя которая была движущей силой первых 32 лет моей жизни подписал Фуркад фото с соревнований.'\n",
      " 'Ровно четыре года назад Александра Трусова стала первой в истории фигуристкой приземлившей на соревнованиях четверной лутц 33'\n",
      " 'Марджори Лажуа – Захари Лага победили в танцах на льду на турнире Мемориал Ондрея Непелы'\n",
      " 'Гриша Корнеев ПРО лыжи Интересный свежий отзыв и тест Фелкл Мантра М6 от Гриши Корнеева.']\n",
      "------------------------------------- EXTREME -------------------------------------\n",
      "['Возвращение в подземелье Треша 33 Эйфория тупости и жадности зашкаливает 33 В этот раз мы посетим Ростовскую область. Всю. И знаете это пока что единственный выпуск в котором не будет. . . А впрочем сами все увидите 33 Ссылка на видео в источнике'\n",
      " 'Вспомогательное упражнение от Вестсайд Барбелл для укрепления подколенных сухожилий 33 Weststokenoid Bartokenoid'\n",
      " 'Тук тук тук 33 Это в двери КСП стук. Или из КПС стучат? . . В любом случае стучат оповещая реальный мир гор и виртуальное информационное пространство Прием 33 Сегодня 2 мая. Время важное и нужное. Сегодня День Рождения Шортова Юрия Ивановича – старшего тренера альплагеря Безенги мастера спорта СССР по альпинизму. Кто знаком с Юрием Ивановичем хорошо знает о его качествах личности мужественность надежность справедливость рассудительность четкость аккуратность сдержанность выдержанность правильность порядочность. Каждый новичок который прошел обучение в альплагере Безенги знает что после первой вершины главное дойти до альплагеря собрав все оставшиеся силы А там а там Торжественное построение поздравление от Юрия Ивановича и альпинистское шампанское волшебный напиток который возвращает к жизни. А Юрий Иванович всегда волнуется перед встречей новичков рацию крепко сжимает в руках. Юрий Иванович заранее приходит на встречу новичков ждет час два. . . Главное не пропустить такой важный момент. И в важный день жизни от всей души мы желаем Юрию Ивановичу здоровья благонадежности во всех проявлениях жизни созидательных тенденций и стремлений добра мира в душе и окружающей среде сердечной радости горной умиротворенности тепла семейного очага хорошей погоды за окном и в доме счастливых мгновений удачи улыбчивых воспоминаний и новых событий. Вспомним созидательный момент жизни когда мы все вместе сделали Юрия Ивановича Шортова Киборгом. Альпинистское братство на славу потрудилось. Спасибо всем большое Киборги – экспериментаторы шагают в Безенги'\n",
      " 'КАК НАУЧИТЬСЯ ДЕЛАТЬ ФЛЯК 360? Наверняка многие видели этот элемент и пытались его повторить но не у всех получалось. В сегодняшнем туториале разберемся что же такое фляк 360 и как его научиться 33'\n",
      " 'Что он такого сделал ей. . От него все никак не отстанет ворона'\n",
      " 'СКАЖИТЕ CHEES 33 Ночная. Hatokenoid прошла но впечатления остались Алексей Сулимоф отправил нам фотографии а мы отправляем их вам скорее ищите себя в кадрах 33 С наилучшими пожеланиями ваша команда Батут парка Ангар Ангар Иркутск Ангар интересное Просто тренируйся Иркутск Досуг Спорт Экстрим Паркур'\n",
      " 'Дружина Мужики настало время вас покинуть ВРЕМЕННО Так как родина зовет братья ждут помощи рад был проводить время развиваться принимать ваши советы но падлы напали и мы нужны нашей родине чтоб дать им пинка от всего сердце Сергей ты молодец держи группу под контролем мы скоро вернемся удачи Мужики. . .'\n",
      " 'Немножко зажигательного тверка вам в ленту этим пятничным утром чтобы взбодриться 33'\n",
      " 'архив Будоражащая сознание 300 метровая Пирамида в Чегемском ущелье 33 Прыгали там 3 раза два из которых с друзьями командой JUST JUMP Насколько же величественна и разнообразна природа Кавказа 33 И на Пирамиде это особо ощущается. . когда строишь водную переправу через бушующий Чегем до 3 часов поднимаешься на экзит груженный веревками и лебедками спишь на страховке в палатке на экзите над 400 метровым обрывом и каждый день наблюдаешь за десятками парящих огромных орлов. . а эти виды. . они остро и навсегда засели в нашей памяти'\n",
      " 'Друзья кидайте в предложку свои фото и видео с тренировок и соревнований. Посмотрим кто на что горазд в нашей дружине Моменты с тренировки зал БК Пересвет tokenoidtokenoid Суховилов tokenoidtokenoid Кравченко Ростовская обл. г. Волгодонск ул. мира 58.']\n",
      "------------------------------------- FOOTBALL -------------------------------------\n",
      "['Лучшие чешские вратари – Доминик Доминатор Гашек и Петр Танкист Чех. Примечательно что в детстве Чех мечтал стать хоккеистом а его кумиром был никто иной как Доминик Гашек. Однако стать звездой НХЛ Чеху было не суждено. Петр родился в небогатой семье денег едва хватало на базовые расходы а хоккейная экипировка оказалась не по карману его родителям. А вот футбольные принадлежности родители могли купить без проблем поэтому Петр и выбрал данный вид спорта. Чех хоть и был очень огорчен но решил что однажды обязательно будет играть в хоккей. И его мечта сбылась. Уже после завершения футбольной карьеры он подписал контракт с английской командой Гилфорд Феникс выступающей во втором дивизионе лиги NIHL.'\n",
      " 'Сампдория сенсационно разгромила Фиорентину. Теперь фиалки рискуют вовсе остаться за пределами еврокубков. Серия А. 37 й тур Сампдория 4 1 Фиорентина Голы Феррари 16 Квальярелла 30 Торсби 71 Сабири 83 Гонсалес пен. 89 Александр Кокорин был в заявке но на поле не появился'\n",
      " 'ЛИГА ЕВРОПЫ 1 4 ФИНАЛА СЕГОДНЯ АЙНТРАХТ БАРСЕЛОНА Начало 22 00 Москва Минск 21 00 Киев 1 00 Астана'\n",
      " 'Паоло Ваноли этот матч был для Спартака чрезвычайно важен и мы очень хотели выйти в финал Мы могли забивать раньше и закрывать матч раньше чтобы сэкономить силы но получилось так как получилось. Этот матч был для нас чрезвычайно важен и мы очень сильно хотели выйти в финал. Излишнее желание может порой сковывать футболистов но тем не менее мы заслужили победу и я благодарен ребятам. Что касается большого количества забросов это был наш план на игру у Енисея очень высокая линия защиты поэтому мы пытались делать эти проникающие передачи но не все было идеально иногда мы были медленнее но я хочу поблагодарить своих ребят сказал Ваноли в эфире МАТЧ ПРЕМЬЕР.'\n",
      " 'Протокол и события матча ФК Ферма ФК Aghori Начальная лига 3 Калужская футбольная лига. Официальный сайт'\n",
      " 'Джованни Симеоне В этом матче я делал то что делаю всегда. Вышел на поле с отличным настроением и получал удовольствие. Хочу показывать на поле все на что способен. После этого поединка у меня остались отличные впечатления.'\n",
      " 'Ровно год назад Россия обыграла Испанию в четвертьфинале домашнего чемпионата мира Несмотря на удаления Алексея Макарова и Федора Земскова НашиПарни одержали победу со счетом 4 2.'\n",
      " 'Гостевой матч на КампНоу для Айнтрахта получился как домашний 33 Супер поддержка'\n",
      " 'Экс тренер вратарей ЦСКА рассказал почему Помазун достоин играть в сборной России Бывший тренер вратарей ЦСКА Вячеслав Чанов прокомментировал невызов голкипера Урала Ильи Помазуна на мартовские учебно тренировочные сборы сборной России. Помазун может быть кандидатом в сборную. Он достоин в этом есть смысл. Думаю Кафанов присматривается к нему. Илья играет стабильно без срывов. У Помазуна отличная реакция что помогает делать большое количество сейвов. Это меня привлекает сказал Чанов.'\n",
      " 'Кто лучший исполнитель штрафных в истории сборной Бразилии?']\n",
      "------------------------------------- BOARDGAMES -------------------------------------\n",
      "['Rtokenoid Warhammer40k валрак решил нас подкормить не сильно свежими слухами а именно составом новой коробки грядущего обновления Имперской Гвардии. Слух практически идентичен августовский информации с реддита Astra Mtokenoid Comtokenoid Patrol Catokenoid shotokenoid troops х2 Ftokenoid ortokenoid tokenoid Armotokenoid senttokenoid Catokenoid tokenoid sqtokenoid The tokenoid sqtokenoid tokenoid now the hq. You tokenoid 39 t get tokenoid tokenoid tokenoid Ftokenoid Ortokenoid tokenoid Three tokenoid gtokenoid or rotokenoid to a sqtokenoid Bomtokenoid ftokenoid gtokenoid Heavy tokenoid Matokenoid rotokenoid tokenoid С той лишь разницей что там указывалось что это Комбат Патруль а Валрак утверждает что это Арми Сет т. е. с кодексами карточками кубами и т. д. По времени предварительный релиз коробки будет в ноябре но основной релиз самой гвардии по отдельным коробкам будет в январе ну то есть по стандартной схеме. Также осенью в районе ноября должен будет выйти и Киллтим Касркины против Некронов. И опять же эта информация также не нова и считывается с подставок касркинов и их высокой кастомизации характерной для киллтимов. Ну и добавляется что в релизах гвардии помимо Атилланских всадников будет и Хакушник Лорд Солар но не Махариус вероятно дефолтная должность но может быть и новый именной. Вместе с тем вся эта информация намекает на то что основной релиз Мирожоров скорее всего перекатывается на 2023 й. Такие дела.'\n",
      " 'Северные территории на границе королевства Налос давно привлекали внимание ее величества. Отправив верных рыцарей в поход на новые земли королева Гимнакс поручила вам ее доверенным картографам составить карты будущих владений. Смотрите видео правила по настольной игре Картографы Новинка Hotokenoid Картографы'\n",
      " 'Реальность уязвима и хрупка. За узкими пределами привычной жизни скрывается ужас. Жуткие создания сводящие с ума тайны архаичные страхи монстры самых разных обличий только и ждут пока вы сойдете с проторенной тропы. Но у вас есть возможность подготовиться к встрече с запредельным кошмаром многочисленные и разнообразные сценарии карточного Ужаса Аркхэма наборы которого можно приобрести со скидкой 15 33 Так вы можете заказать Страну Лавкрафта набор с базовой игрой и четырьмя самостоятельными сценариями Стражи бездны Лабиринты безумия Карнавал ужасов и Проклятье ругару которые можно пройти отдельно или в составе любой кампании 5993 р. вместо 7050 р. И наборы с полными циклами которые можно купить за 5721 р. вместо 6730 р. Тайная ложа в который входит цикл Нарушенный круг посвященный замыслам Ложи Серебряных Сумерек самого таинственного общества Аркхэма. Гибельные джунгли. Это цикл Забытая эпоха в котором сыщикам предстоит через жаркие тропические леса добраться до давно покинутого города в самой глубине Земли. . . и отправиться дальше за пределы пространства и даже времени. Проклятое захолустье содержащее цикл Наследие Данвича посвященный захолустной деревушке в которой может открыться прореха между измерениями. Желтые знаки с циклом Путь в Каркозу посвященным собственно путешествую в Каркозу безумное межзвездное царство Короля в желтом. Акция Hotokenoid Лавкрафт УжасАркхэмаКарточнаяИгра'\n",
      " 'Женщина \\u200d никогда не будет играть в шахматы на равных с мужчинами потому что она не может пять часов сидеть за доской молча. Пауль Керес'\n",
      " 'Челюсти вернулись и их снова можно найти тут Цена 1290 руб.'\n",
      " 'Расскажем подробней о еще одном проекте кобольдов Kotokenoid Press который уже набрал более 160000 036 на Кикстартере. Это Пустоши хаоса. Вот что написано на странице проекта Отправляйтесь за пределы цивилизованных земель в воющие пустоши где культ Черной Козы творит все что захочет и где покрытые тонким слоем пыли находятся древние сооружения. Там вы можете обрести огромные богатства древнюю магию и быструю смерть. Добро пожаловать в пустоши для 5 й редакции 33 Пустоши хаоса и Сказки из пустошей представляют вашему вниманию полный комплект цитадели хаоса тайны Несущих Гибель мерзкий культ Черной Козы и сводящую с ума магию хаоса лучшее для того чтобы ваша игра наполнилась воплями пришельцев боевыми кличами гоблинов и песнопениями не предназначенными для человеческих глоток. Независимо от того используете ли вы готовый сеттинг или работаете с оригинальным или домашним Пустоши хаоса добавят в любую кампанию опасность хаос грандиозные места существ и специфическую магию. Книга примерно наполовину состоит из правил включая важные магические предметы врил артефакты древнюю магию заклинания хаоса монстров хаоса и тех что принадлежат культам а также опции персонажа которые можно использовать в любой кампании домашняя опубликованная или их комбинации. Также здесь будут локации на тему хаоса лавкрафтовских мифов и пустошей ПМ ы и организации. В дополнение к 192 страничному изданию Пустошей хаоса в твердом переплете и PDF будет выпущен 128 страничный сборник из 12 отдельных приключений для героев с 1 по 12 уровень а также издания для Rotokenoid Fantasy Grotokenoid и Shard. Как всегда Kotokenoid Press объединил опытную команду геймдизайнеров художников редакторов и других специалистов чтобы превратить идею в мощный настольный ресурс. В состав основной команды дизайнеров Пустошей Хаоса входят Ричард Грин Сара Мэдсен и Тим Хичкок а также Филипп Ларвуд Бен Макфарланд Карлос и Холли Овалле Келли Павлик и Брайан Саскинд. Главными дизайнерами Сказок из пустошей являются Филипп Ларвуд Сара Мэдсен и Тим Хичкок. Среди других дизайнеров приключений Ричард Грин Карлос и Холли Овалле Брайан Саскинд и другие. Ведущим редактором проекта является ветеран Wtokenoid of the Coast Ким Мохан а редактором приключений лауреат премии Небьюла Джон Джозеф Адамс. Автор обложки любимый фанатами Марсель Меркадо а обложки ограниченного тиража Эддисон Рэнкин. Среди картографов удивительный Джон Пинтар и потрясающий Томми Салама а среди художников иллюстраторов Марсель Меркадо Брайан Сайм Роберто Питтурру Уильям О 39 Брайен Джордж Джонстон Густаво Диас и другие. Команду возглавляют главный редактор Томас М. Рид и издатель Вольфганг Баур которым помогают арт директор Марк Рэдл и графический дизайнер Эмбер Сегер. Добавим что в проект уже традиционно входит изготовление тематических миниатюр.'\n",
      " 'Мы начинаем публиковать еще один фрагмент книги Мидгард. Описание мира выдержки из главы Темные королевства. Именно эти мрачные земли привлекают большинство участников опроса И рассказ наш пойдет о Моргау королевстве Крови где правят вампиры. Его создатели явно вдохновлялись романом Брэма Стокера а также мифологией суевериями и историей Валахии Сербии и Польши. Главы переводимой нами книги описывающей плоский мир это фактически разные по стилю сеттинги. Наступило время темного фэнтези. mtokenoid hetokenoid hetokenoid'\n",
      " 'Скидка 50 на ключи Wrath of the Rtokenoid 33 Основная игра Pathftokenoid Wrath of the Rtokenoid 749 руб. Commantokenoid Patokenoid 359 руб. цифровой артбук саундтрек карта и 4 уникальных внутриигровых предмета Season Pass 539 руб. три дополнения со скидкой DLC 1 Inevtokenoid Extokenoid и DLC 2 Throtokenoid the Ashes 369 руб. дополнения к игре входят в Season Pass Wrath of the Rtokenoid это изометрическая PRG по легендарной настольной системе которая продолжает идеи Pathftokenoid Ktokenoid. . Сюжет игры разворачивается на зловещей северной территории известной как Мировая язва. Сделав выбор между десятками рас и классов вам предстоит остановить демоническое вторжение познать суть добра и зла и стать Мифическим Героем способным на фантастические подвиги. Акция Hotokenoid Pathftokenoid'\n",
      " '20 августа день рождения отмечает сам Лавкрафт признанный мастер ужасов оказавший огромное влияние на жанр хорроров. Мы благодарим Говарда за ужасы которые он перед нами раскрыл и дарим подарки в честь жуткого праздника 33 С 15 по 21 августа начисляем двойные бонусы при покупке лавкрафтовских настолок из списка Накопленные баллы можно тратить на скидку 15 при любой покупке Акция Hotokenoid Лавкрафт'\n",
      " 'news LampPost aos Не одним только 40к едины ведь для аоса тоже вышла небольшая балансировка.']\n",
      "------------------------------------- HOCKEY -------------------------------------\n",
      "['Шестеркин затаскивает Рейнджерс в финал Восточной конференции 33 Американцы в Twtokenoid Игорь – хоккейное божество 33 Нью Йорк Рейнджерс одержали сенсационную победу в семиматчевой серии с Каролиной взяв верх над Харрикейнз в решающем противостоянии 6 2. Первой звездой встречи был признан российский голкипер синерубашечников Игорь Шестеркин отразивший 37 из 39 бросков и не упустивший шанса потроллить одного из болельщиков хозяев по завершении поединка. Очередная блестящая игра Шестеркина привела в восторг заокеанских пользователей Twtokenoid. tokentokenoid – У Каролины много что пошло не так в этой серии но в первую очередь стоит отметить вклад в общую победу Рейнджерс который сделал Игорь Шестеркин. Он – важнейшая причина того почему у Кейнз не получалось действовать так результативно. tokentokenoid – У Шестеркина первый полноценный сезон в качестве основного вратаря Рейнджерс – и он уже выводит команду в финал конференции. Как же нам с ним повезло 33 tokentokenoid – Несмотря на то что все победы Рейнджерс в этой серии были разгромными именно Шестеркин являлся их фундаментом. Остановил почти все что летело в его ворота. tokentokenoid – Наблюдение за Игорем Шестеркиным – это самый настоящий религиозный опыт. tokentokenoid – Шестеркин лучше трех вратарей Каролины вместе взятых. Все даже близко не стоят к нему по уровню а единственной причиной по которой Андерсен показывал такую статистику в регулярном чемпионате было то что Кейнс отлично действовали в обороне. tokentokenoid – Игорь – самый ценный хоккеист всей лиги и это даже не обсуждается. tokentokenoid – Сегодня Шестеркин так заскучал в первом периоде что даже прилег чтобы вздремнуть. tokentokenoid – Респект Рейнджерс за отлично проведенную серию качественная работа перед дедлайном и Шестеркин превратившийся в настоящую стену дали им преимущество в котором они так нуждались перед плей офф. tokentokenoid – На мой взгляд именно Игорь стал главной звездой этой серии. tokentokenoid – Обожаю Шестеркина 33 Как же классно он потроллил тролля из Каролины после игры 33 tokentokenoid – Игорь Шестеркин – хоккейное божество. И оно – наше. tokentokenoid – Игорь – мой герой 33 tokentokenoid – Василевский пока остается лучшим вратарем мира но Шестеркин уже стучится в его дверь. Согласно продвинутой статистике в серии с Каролиной Шестеркин пропустил на 8 шайб меньше показателя ожидаемых голов Кейнс. В текущем розыгрыше плей офф Игорь одержал 8 побед отразив 92 8 бросков. В финале Восточной конференции Шестеркина ждет мощнейшее противостояние с Андреем Василевским и его Тампой. Перевод tokenoid'\n",
      " 'Рашит Давыдов поделился деталями общения с голкипером Рейнджерс Игорем Шестеркиным. В первый сезон Шестеркина за океаном мы общались практически после каждого его матча. Это был этап адаптации Игоря к новым условиям другой игре обсуждали анализировали делали выводы. Уже после 10 12 встреч за фарм клуб Рейнджерс было видно что Игорь освоился а дальше стал попросту доминировать на льду АХЛ 33 Игорек красавец 33 Проделал большую работу чтобы сейчас показывать такую игру 33'\n",
      " 'Комментарии Владимира Алистрова и Седрика Пакетта после игры с ЦСКА'\n",
      " 'Джеймс Нил в первой же игре после травмы сделал дубль за Спрингфилд Появится еще в этом сезоне в составе главной команды? P. S и да Нил в очередной раз сделал себе зубы которые ему выбили на тренировке в ноябре'\n",
      " '– Конечно копался разбирался. Наверное тут не один фактор а совокупность причин. Не снимаю и с себя ответственности потому что может были и мои просчеты. Свою роль сыграла и ситуация с финальным раундом Континентального кубка под который во многом была заточена подготовка. Мы его ждали ждали но в итоге когда уже практически сидели на чемоданах нам объявили что Гомель снят с турнира. Это произошло не по нашей вине. Сергей Стась рассказал о причинах почему не удалось обыграть гродненцев в четвертьфинальной серии'\n",
      " 'Друзья до 10 апреля проходил сбор заявок на конкурс Лучший болельщик МХЛ. Мы получили много откликов. Всем спасибо 33 От нашего клуба на конкурс отправляется это видео с мегапозитивными Юлией и Стасом вы их конечно знаете 33 Победителей жюри МХЛ определит совсем скоро и пригласит на церемонию закрытия сезона'\n",
      " 'Тимо Майер сделал хет трик в матче с Анахаймом и достиг отметки 30 голов за сезон. Шаркс обыграли Дакс 4 1 в регулярном чемпионате НХЛ. Хет трик стал для швейцарца 3 м в лиге. 25 летний Майер во 2 й раз в карьере забросил 30 шайб за сезон. Он повторил свой рекорд по голам за сезон для игроков из Швейцарии который установил в сезоне 2018 19. Сейчас в активе нападающего 65 30 35 очков в 60 играх сезона.'\n",
      " '75 лет со дня рождения Владимира Петрова Сегодня 30 июня легендарному хоккеисту ЦСКА и сборной СССР двукратному олимпийскому чемпиону многократному чемпиону мира Владимиру Петрову исполнилось бы 75 лет.'\n",
      " 'Овечкин Свечников и Романов Самые мощные силовых приемов НХЛ Январь 2022'\n",
      " 'Финны убивают хоккей? Но они же забивают и не так мало 33 Мэтр Владимир Крикунов подвел итоги полуфиналов ЧМ и дал прогноз на решающий матч. Главные тезисы Финны играют по интересной системе. Главный их козырь – железная дисциплина Канадцы знают что сильнее чехов поэтому всегда играют против них уверенно с позиции силы Американцы не привозят на ЧМ лучших игроков. А сейчас у них плохое управление командой Финская оборона не станет шоком для Канады Так кто же выиграет ЧМ по мнению Крикунова? Ответ в материале по ссылке Katokenoid Parkktokenoid Newsptokenoid Gtokenoid Look Press']\n",
      "------------------------------------- ESPORT -------------------------------------\n",
      "['Какой т3 игрок на данный момент перспективнее всех и почему. Рандом tokenoid тег EV'\n",
      " 'Гвардиола об 1 0 с Атлетико Очень равный матч очень сложный. Атлетико – мастера защищаться всей командой это непросто. Мы не давали им убегать в атаки и были терпеливы. Мы ожидали что они будут играть по схеме 5 3 2 но потом Атлетико адаптировался и начал играть 5 5 0. И сегодня и в доисторические времена и через сто тысяч лет будет очень сложно атаковать против команды играющей в 5 5 0 потому что свободного пространства нет. Они сильные мы маленькие и легкие. Это вопрос терпения. Чувствую что ответный матч будет похож на то как команды играли после забитого гола. Это был очень равный матч. Мне понравилась игра и согласен с тем что с такой защитой сложно забить. Вы смотрели матч?'\n",
      " 'Сегодня подведем итоги трех конкурсов на одном стриме Шансы победить и забрать золотые наклейки очень высокие 33 Ждем всех в 19 00 мск.'\n",
      " 'Ровно шесть лет назад s1mptokenoid присоединился к NAVI 33 За это время он дважды стал топ 1 игроком года заработал 21 медаль MVP выиграл 17 больших турниров и Intel Grand Stokenoid 33'\n",
      " 'Btokenoid на подкасте EsportsDotokenoid Я никогда не забуду как во время мап вето с Ftokenoid Phoentokenoid ANGE1 сказал Стоит ли нам забанить Itokenoid? Вы ребята играете без Sage на этой карте. Это троллинг с вашей стороны и забанил его.'\n",
      " 'Для нас наступает новая эра Мы впервые будем транслировать для вас главный турнир года по DOTA 2. Освещать это грандиозное событие будем при поддержке наших партнеров из Bet Boom. Будем стараться вас радовать отличной картинкой и топовым контентом. Будьте с нами и смотрите жаркие битвы'\n",
      " 'Тому что кинет в лс админу заявку на рекламу в течение 4 часов после выхода этого поста одноразовая скидка 30 промокод ссылка на этот пост Желаете видеть свою рекламу здесь пишите в лс ИНТЕРЕСНО ПОЧИТАТЬ И ПОСМОТРЕТЬ Язык тела ~ мимика Познавательно Ностальгия рожденные в СССР Исторические события и факты Фильмы ужасов и страшные истории tokenoid список еще 130 наших групп и контакты админа'\n",
      " 'Жидкий азот позволил разогнать Intel Core tokenoid 13900K до 8 2 ГГц Центральные процессоры Intel семейства Raptor Lake начнут продаваться 20 октября. Компания Intel провела мероприятие предшествующее началу продаж этих процессоров и приглашенный на него энтузиаст с псевдонимом Sptokenoid смог разогнать флагманскую модель Core tokenoid 13900K до 8 2 ГГц используя для охлаждения резервуар с жидким азотом. Напомним что Core tokenoid 13900K является 24 ядерным процессором с 32 потоками и максимальной частотой автоматического разгона в 5 8 ГГц. Чип обладает 16 энергоэффективными E ядрами и восемью мощными P ядрами. Одно из последних как раз и получилось разогнать до 8 2 ГГц тогда как остальные работали на 5 7–6 3 ГГц. В эксперименте участвовала материнская плата ASRotokenoid Z790 Tatokenoid напряжение на процессоре было поднято до 1 824 В а жидкий азот обеспечил охлаждение до минус 193 градусов по шкале Цельсия. Указанную частоту можно считать только модельным рекордом поскольку процессоры Intel Cetokenoid D поколения Cetokenoid Mtokenoid уже довольно давно покорили частоты 8 5 ГГц в аналогичных условиях и такой результат позволил попасть в пятерку лучших по версии HWBot. А абсолютным чемпионом по частоту является AMD FX 8370 с результатом 8 72 ГГц. Так что достигнутая Core tokenoid 13900K частота 8 2 ГГц не попадает даже в первую двадцатку абсолютного мирового рейтинга. Тем более что на видео с мероприятия последней зафиксированной на снимке экрана частотой в CPU Z стала отметка 8 0 ГГц после чего система потеряла стабильность и ушла в синий экран. В сравнении с конкурирующим Ryzen 9 7950X частота Intel Core впечатляет поскольку этот процессор AMD под жидким азотом смог разогнаться только до 7472 МГц хотя и сохранял при этом активность не только шестнадцати ядер но и тридцати двух потоков. В случае с Core tokenoid 13900K многопоточность была отключена. С другой стороны Core tokenoid 12900KS который может считаться самой быстрой моделью прошлого поколения в начале прошлого месяца покорил рубеж 7600 МГц при активности 16 ядер и 24 потоков поэтому дополнительные 600 МГц частоты в любом случае демонстрируют заметный прирост потенциала. Источник Tom 39 s Hartokenoid'\n",
      " 'Оставь Печаль в Steam на MyCSGO только Радость Встречайте новые PIXAR кейсы с топовыми скинами внутри скидку 25 на все остальные кейсы и промокод 33 к пополнению для максимальной выгоды Промо CCHOR Активируй промо и наполни инвентарь годным дропом прямо сейчас'\n",
      " 'Красивая пушка дает 10 к скиллу Думаем разыграть седи самых активных А какой твой любимый скин? qtokenoid']\n",
      "------------------------------------- ATHLETICS -------------------------------------\n",
      "['7 августа в Москве в Измайловском парке состоится благотворительный Забег Без Границ в поддержку людей с инвалидностью \\u200d ️ Дистанции Для взрослых 1 5 км 5 км и 10 км Детские забеги – от 0 до 5 лет 50 метров от 6 до 12 лет 500 метров от 13 до 17 лет 1500 метров. Также вы сможете поучаствовать в уникальном забеге вслепую на 2 километра. В забеге участвуют пары в которых один из бегунов бежит в повязке на глазах в роли незрячего бегуна а его партнер выступает в роли волонтера лидера при желании потом можно поменяться местами. Регистрация на забег Без Границ по ссылке'\n",
      " 'Эта картинка очень точно отражает те моменты когда вы завидуете чьим то достижениям. Просто вы видите лишь внешние вещи верхушку айсберга. Но даже не подозреваете что за этим стоит. Какие возможно титанические усилия совершает человек чтобы дойти до цели. Когда начинаете смотреть глубже зависть не возникает.'\n",
      " 'было тяжело но мы бежали на свет я нарисую облаками твой силуэт. . .'\n",
      " 'Эй говнюки 33 Даже невзирая на ситуацию в мире и то что весь мир против нас не теряем самообладание и не забываем о том для чего мы здесь. Мы создаем этот импульс чтобы в трудную минуту помогать друг другу а не паниковать. Будучи перед Творцом что ты ответишь что не выдержал? Будьте верны себе даже в секунду катастрофы мы команда а значит справимся все вместе у вас есть я ребят'\n",
      " 'Отношения и бег. \\u200d ️ Я начинала бегать потому что говорили что это полезно в горной подготовке. Не очень системно. Просто по фану. Он как то спросил Зачем ты бегаешь? Это же скучно 33 Совсем нет. Мне это нравится 33 Свобода легкость настроение 33 Он попробовал втянулся и сразу стал готовиться к полумарафону. Зачем просто так бегать 33 Почему ты не бегаешь на забегах? Я ответила Не знаю не думала. А почему бы и нет? Он подарил мне часы и пульсометр. И так втянул в бег как спорт. И еще мне очень хотелось соответствовать его уровню. Совсем не хочется быть квашней рядом с сильным мужчиной. Пожалуй это была сильная мотивация изначально. А дальше затянуло нас в бег с головой. Сейчас наш уровень примерно одинаковый. Но на тренировках вместе редко бегаем. Только в последнее время стали чаще. Притерлись А так разные мы. Я люблю упахаться. Если кросс то развивающий и еще раскочегариваюсь к концу. При хорошей форме особенно. А он любит порядок и как запланированно. А еще я психую и ворчу особенно когда тяжело. И его начинаю подгонять и подначивать. Если он меня притормаживает бешусь. Потом спустя время понимаю что правильно не дал упороться. И старты бегаем отдельно даже если вместе я отпочковываюсь хотя бы головой. Потому что если я знаю что он рядом могу начать киснуть. А так с чужими людьми то я герой. Нельзя падать лицом в грязь и вообще настрой сбивается. Короче я жгу он гасит. Я поддаюсь эмоциям и могу закрыть глаза и в пропасть без просчета последствий. Он трезво оценивает обстановку и обоснованно рискует. Вот так и живем уже 7 лет. А знаю пары которые и в любви и в горести как говорится. И на тренировках и на стартах и в страве любовь и сплошные мимими. Для меня это инопланетяне Это варианты если вы разделяете увлечение бегом. А как живется тем у кого в паре только один бегун или бегунья? Поддерживают ли вас? Понимают? Ревнуют? Требуют развод? Гладят беговую форму? Мерзнут и бдят во время ваших безумных забегов? Как у вас? Поделитесь интересно. делисьбегом любовьибег бегуны бегаемвместе людиибег бег взаимоотношения'\n",
      " 'Вы только представьте как это здорово 33 Вы бежите по лесной тропинке где сосны устремляются ввысь поют птички солнечные лучи пробиваются сквозь крону деревьев и чувствуется прохладный чистый воздух. Ух аж мурашки по коже И все это возможно 33 Как? 15 июня 2022 года в Дегтярске пройдет трейл Шигирский идол. Трасса образована из рельефа Уральских гор. Вокруг зелень и благодать. Есть несколько вариантов участия Любитель –10 км. Для тех хочет попробовать для себя что то новенькое. Профи – 25 км. Подходит самым опытным бегунам. Кто давно занимается и готов активно покорять новые вершины. Детский – 800м. Расстояние для ваших деток от 7 и старше кто неравнодушен к бегу и хочет получить красивую медаль 33 Зарегистрироваться на забег можно на сайте Или через прикреплению к посту услугу А вам что нравится больше? Лесная романтика или бег в городе?'\n",
      " 'Мотивация. Дальше Больше 33 Чтоб жить надо рваться путаться биться ошибаться начинать и опять начинать и опять бросать и вечно бороться. А спокойствие душевная трусость. Лев Толстой'\n",
      " 'В Березовском начался второй день чемпионата Свердловской области. На старте участники забега на 10000м. Фото Андрей Минжулин'\n",
      " 'Венгры скрестили волейбол и настольный теннис. Вам стоит это увидеть Новый вид спорта называется текволи. В Будапеште прошел первый в истории чемпионат мира по текволи teqvotokenoid. Новая игра – гибрид волейбола и настольного тенниса. В нее играют в формате два на два а особенность стола в том что он – изогнутый. Площадка для текволи представляет собой стол окруженный системой линий в форме шестиугольника. Подачи а также атакующие удары в прыжке можно исполнять только из за пределов этих линий а мяч не должен попадать в край стола. После подачи мяч может касаться поверхности стола только один раз а у соперника есть максимум три касания для розыгрыша ответной атаки прием передача удар скидка – все как в других разновидностях волейбола классическом пляжном снежном. Только в текволи нет блока а вместо сетки – прозрачное оргстекло. Правила текволи могут варьироваться в зависимости от турнира но обычно матч идет до победы в двух партиях. В свою очередь партия состоит из двух игр до 8 очков. В каждой из партий у команд есть по одной возможности заказать двухочковый розыгрыш но только если команда еще не набрала 6 очков. Создатели игры убеждены что благодаря своей динамичности она в будущем сможет захватить весь мир. В первом чемпионате мира приняли участие восемь команд причем и мужские и смешанные пары сыграли в одном дивизионе. Им нужно было заплатить вступительный взнос в 50 евро и добраться до Будапешта. Проживание питание транспорт и призовой фонд в 25 тыс долларов предоставили организаторы турнира. Победителями первого турнира стали поляки. rtokenoid мотивация зож текволи TEQVOLY sport спорт'\n",
      " 'Дорогие Атлеты 33 На нашем официальном сайте опубликовано итоговое положение о гонке Mad Fox Utokenoid Insptokenoid Для вашего удобства публикуем ссылку Мы просим вас обратить внимание на те пункты информация в которых была обновлена Пункт 4. Пожалуйста проверьте время и место старта вашей дистанции Пункт 10. В условия получения стартового пакета добавлен пункт о необходимости наличия страхового полиса для участников всех дистанций кроме детских стартов Пункт 11. Добавлена информация о времени трансфера для участников дистанций К20 и К40. Первое место трансфера на обе дистанции – AZIMUT отель Переславль а второе место будет располагаться непосредственно в Переславле Залесском и будет сообщено в наших социальных сетях а также в информационном письме для участников Пункт 12. Пожалуйста обратите внимание на программу Соревнования Пункт 14. Пункты питания и тайминг работы трассы. Напоминаем что в начале декабря все участники получат на свою почту информационное письмо в котором еще раз будут отражены все важные моменты гонки Остаемся на связи 33']\n",
      "------------------------------------- MOTOSPORT -------------------------------------\n",
      "['Ребята подскажите диску капец или нет Таких трещин 2 штуки'\n",
      " 'Все мы знаем выражение Готовь сани летом. . . . Вот мы и предлагаем Вам заранее позаботится о зимней экипировке. ⠀ Главные требования к экипировке для снегоходов можно свести к двум словам сухость и тепло. ⠀ ️ Зимний снегоходный комбинезон должен не пропускать влагу например подтаявший снег к телу. ⠀ ️ Отводить пот не создавая внутри себя эффекта сауны. ⠀ ️ Кроме этого он должен согревать но не перегревать организм. ⠀ ⠀ Этим требованиям лучше всего отвечают модели выполненные из специальных современных материалов. Все они имеют утеплитель последнего поколения который существенно легче даже натурального пуха а также специальные защитные щитки. Они вшиты в комбинезоны в районе коленей спины и локтей. Выполняют их чаще всего из специального твердого поролона что позволяет им не стеснять движений но при этом обеспечивать защиту. ⠀ Увидя дизайн наших комбинезонов Вы не останетесь равнодушны а если решите примерить то точно не захотите его снимать. ⠀⠀⠀ Наш сайт интернет магазина tokentokenoid ⠀ Оформи заказ по телефону 7 800 555 34 96 ⠀ ftokenoid мотоэкипировка ftokenoid motoektokenoid motoektokenoid motoektokenoid байкер защита мотошлем шлем мотоцикл'\n",
      " 'MotoGP Ринс принес уходящей из Больших Призов Stokenoid победу в последней гонке Гонка MotoGP ГП Валенсии получилась эмоциональной по многим причинам и одна из них – уход Stokenoid. Японский производитель принял решение в очередной раз покинуть премьер класс. И команда и гонщики были шокированы таким решением но до конца сезона 2022 выкладывались по полной чтобы красиво завершить историю. Алекс Ринс прекрасно справился с этой задачей поставив жирную точку благодаря победе в гонке. AR42 На решетке перед стартом было очень эмоционально. Я видел механиков за работал и плакал. Мы столько лет проработали вместе столько трудностей преодолели столько хорошего. Но я сказал себе Алекс хватит реветь ты должен провести хорошую гонку 33. И у меня получилось 33 Мне удалось провести невероятный старт но после этого гонка была очень сложной в ментальном плане. Контролировать гонщиков находящихся позади было совсем не просто. В то же время я старался как можно лучше контролировать износ резины и кучу других вещей. Но в итоге мы финишировали на первой позиции и это означает что мы проделали отличную работу. Лучший способ закончить сезон и попрощаться с Stokenoid 33'\n",
      " 'MotoGP Босс KTM Штефан Пире Hontokenoid испортила Джека Миллера мы вернем его в норму 33 Штефан Пире глава Ptokenoid Motokenoid AG ex KTM Grotokenoid уверен что Джек Миллер может стать золотым мальчиком KTM Fatokenoid Ratokenoid в MotoGP и главным козырем в битве против Hontokenoid Ratokenoid которую австрийский магнат выбрал своей целью в 2012 году. JM43 сменит Мигеля Оливеру в заводской команде MotoGP KTM и это будет не просто контракт а триумфальное возвращение блудного австралийца в семью. Напомним Джек вступил в Red Btokenoid KTM Ajo в Moto3 и боролся за титул чемпиона 2014 года однако затем был похищен Hontokenoid. По мнению вице президента HRC Сухея Накамото рулившего заводским проектом в MotoGP Джек мог был стать новым Кейси Стоунером. Однако через 2 года Накамото отправили на пенсию а новым боссам Джек оказался неинтересен и его слили. Изначально Накамото предложил Джеку сразу многолетний контракт по формуле 3 2 3 года в саттелите после если стороны будут удовлетворены результатом 2 года в заводской команде Repsol Hontokenoid. Но до второй стадии Джек так и не дошел. Пире считает что манипуляция Hontokenoid 2015 года разрушила мозг Джеку Миллер перешел в MotoGP минуя Moto2 сразу получил недостаточный уровень внимания и технической поддержки к тому же не лучший байк для ознакомления с Королевским классом. В итоге ему не хватило опыта и умений чтобы впечатлить японцев. И те решили его не поддерживать передав в заведомо слабейший саттелит Marc VDS Ratokenoid с мотоциклом заведомо более низкого класса. Как только завершилась первая 3 летняя часть договора контракт с Джеком расторгли. Условия которые Джеку затем предложили в Dtokenoid позволили ему завершить свое обучение и выстрелить в составе Pramac Ratokenoid. Плюс сыграли роль сверхмотивация и спортивная злость Джек регулярно бил на полях сражений вчерашних соперников по Moto3 затем перешедших в Королевский класс а также бывших коллег по HRC. Я надеюсь что Джек внесет большой вклад в дело KTM потому что он хороший парень наш парень. Аки Айо менеджер Ajo Ratokenoid и менеджер Джека Миллера с 2015 года прим. которому мы полностью доверяем его агент. Мы знаем что сделка будет успешной и выгодной для обеих сторон. С Брадом они станут сильной командой. Джек вырос с нами в Moto3. К сожалению Hontokenoid забрала его и разрушила ему мозг. Затем он нашел способ вернуться на победный путь чему мы очень рады заявил Штефан Пире в интервью Motorsport.'\n",
      " 'Приказом министерства спорта России 97нг от 8 июля 2022 спортивное звание Мастер спорта России присвоено группе российских спортсменов Speetokenoid Megatokenoid Евгений САЙДУЛЛИН Арсений ЗУБКОВ Даниил ВИЗГИРД'\n",
      " 'Repsol Hontokenoid подтвердила участие Марка Маркеса в тестах IRTA MotoGP Mtokenoid HRC и Repsol Hontokenoid официально подтвердили участие Марка Маркеса в официальных тестах MotoGP которые последуют за Гран При Сан Марино на Mtokenoid Wortokenoid Ctokenoid в понедельник и вторник.'\n",
      " 'MotoGP Квартараро Двигатель очень похож на прошлогодний Во второй половине первого дня официальных тестов MotoGP на мотоцикле Фабио Квартараро появились новые аэродинамические крылья чему пилот Yamaha обрадовался поскольку аэродинамический обвес YZR M1 уже давно не менялся. В целом новая форма аэрокрыльев очень похожа на предыдущую версию но спойлеры теперь больше и выступают за край ветрового стекла. Лучше ли новинка? Так сразу и не скажешь После трех лет с одинаково аэродинамикой пришло время для чего то нового. Новинка не лучше и не хуже. Сепанг не лучшая трасса для проверки этого обновления потому что здесь крылья немного снижают максимальную скорость. Мы должны были протестировать новинку на такой трассе как Херес чтобы получить больше полезной информации. Не знаю подходит ли Мандалика для подобных тестов. FQ20 в основном работал с M1 2022 года. Основная цель новинки – повысить максимальную скорость. Но насколько в Yamaha справились с этим? У нас теперь та же мощь что у Dtokenoid смеется 33 Если серьезно сложно сказать. Сегодня у меня не было хорошей обратной связи с мотоциклом я не мог действительно хорошо управлять им даже на горячем круге. Для меня двигатель очень похож на прошлогодний. Завтра мы попробуем кое что новое в области электроники но не думаю что мы добьемся большого прогресса за счет этого. Фабио закончил день с 6 м лучшим временем уступив чуть более 0. 3 сек. быстрейшему гонщику Алейшу Эспаргаро. И все же чемпион 2021 года недоволен собой. Я впервые не мог ездить в своем стиле. Наматывал круги с задней покрышкой средней жесткости которая прожила 26 кругов затем выехал на трек с мягкой резиной и совсем немного улучшил время. Я не мог воспользоваться мой силой – скоростью прохождения поворотов. Также стоит отметить для того чтобы быть очень быстрым на этой трассе нужно достигать предела в некоторых участках и сегодня был неподходящий день для этого. Однако я доволен нашим гоночным темпом – проехал круг 2’00 на изношенной резине но на горячем круге сегодня было тяжело.'\n",
      " 'Мотогонки на льду 2022 Speetokenoid tokenoid Репортаж о прошедших соревнованиях в Усолье Сибирское 29. 01. 2022 г.'\n",
      " 'Мотоспорт. MotoE. 2022. Atokenoid. Гонка 2 Ltokenoid НАЧАЛО ПРЯМОЙ ТРАНСЛЯЦИИ 21. 08. 2022 В 16. 15 MSK Трансляция доступна по ссылкам Круглосуточный эфирный телеканал Канал 2 Tetokenoid Smart TV и VLC VK Видео Мы на Торрент ТВ Запись трансляции онлайн и скачать на MEGA. NZ Комментатор Сергей Сухоруков'\n",
      " 'MotoGP Argenttokenoid Баньяе удалось избежать пенализации за резкий сброс темпа на FP2 Франческо Баньяя провел несколько напряженных минут в Дирекции MotoGP куда его вызвали после FP2 Гран При Аргентины тогда пилот заводской Dtokenoid Lenovo Team повел себя достаточно странно. Ему пришлось объясняться и извиняться.']\n",
      "------------------------------------- BASKETBALL -------------------------------------\n",
      "['Хьюстон рассматривают возможность сохранения и использования Бобана Марьяновича Бобан был переведен в Хьюстон из Далласа в рамках сделки по приобретению Кристиана Вуда но сербский центровой действительно может сыграть весьма важную роль в новой команде. Согласно Hotokenoid Chrontokenoid Хьюстон взвешивают сохранение Марьяновича в составе и хотят сделать его частью основной ротации. Тем временем ожидается что все остальные игроки которые были приобретены из Далласа в рамках сделки с Вудом Маркиз Крисс Стерлинг Браун и Трей Берк покинут команду.'\n",
      " 'Стив Керр Нынешний сезон или следующий – последние шансы для Уорриорз Это мой девятый сезон. Если вы посмотрите на наш костяк \\u200b\\u200b Стеф Клэй Дрэймонд Андре – ребята играли вместе почти десять лет. Такого в спорте не бывает. С ними команда может преодолеть многое но мы знаем что это не будет продолжаться вечно. Нынешний сезон или следующий могут стать последними шансами. Мы на завершающей стадии – заявил Керр'\n",
      " 'Боже как же хорош камень на ГМе что спихнул это тело за такую россыпь пиков'\n",
      " 'Вы случайно не помните последнюю команду Западной конференции которая обыграла Голден Стэйт Уорриорз в серии Плей Офф? ? Эти парни. .'\n",
      " 'я мажу все мне мешает погода кофта кроссы не те ЧЕЛИКС В КУРТКЕ'\n",
      " 'Дюрэнт о Леброне Забавно как непринужденно этот засранец выглядит в свои 48 лет Форвард Бруклина Кевин Дюрэнт иронично высказался о трипл дабле лидера Лейкерс Леброна Джеймса который он оформил в матче с Кавальерс 131 120. Легкая работа. Забавно как непринужденно этот засранец выглядит в свои 48 лет написал Дюрэнт в социальных сетях. В выездном матче с Кливлендом 37 летний Джеймс записал на свой счет 38 очков 11 подборов и 12 передач.'\n",
      " 'Сейчас время сделать справедливость реальностью для всех детей Божиих Мартин Лютер Кинг'\n",
      " 'Скотти Барнс на своем первом заслуженном отдыхе в ранге игрока НБА 33 WeTheNorth'\n",
      " 'Это видео про то на сколько важно работать над навыками. Абсолютно всем без исключения в том или ином объеме. Будь это сезон или межсезонье.'\n",
      " 'Я хочу чтобы Селтикс выиграли чемпионат с теми игроками которых они выбрали. Я верю в Джейлена Брауна и Джейсона Тейтума.']\n",
      "------------------------------------- TENNIS -------------------------------------\n",
      "['Джессика Пегула после поражения от Швентек пришла на пресс конференцию с банкой пива Hetokenoid Я пытаюсь пройти процедуру допинг контроля. Хотя это еще и помогает облегчить поражение сказала теннисистка tokentokenoid'\n",
      " 'БЛИНКОВА ВЫШЛА ВО 2 Й КРУГ LIBEMA OPEN Россиянка Анна Блинкова пробилась во второй раунд турнира в Хертогенбосхе обыграв бельгийку Гретье Миннен 2 6 6 1 6 4. Следующей соперницей Анны станет либо Вероника Кудерметова либо Леолия Жанжан. newstokentokenoid Btokenoid'\n",
      " 'Осака победила на старте турнира в Сан Хосе Японка одержала непростую победу над представительницей Китая Чжэн Циньвэнь – 6 4 3 6 6 1.'\n",
      " 'Коко Гауфф с трофеем первой ракетки мира в парном разряде. 1⃣'\n",
      " 'Рекорд есть Первого мире Великий Джокович единственный 1⃣1⃣ ю сезонами сведения электронного рейтинга ATP 1973 2022. Какой отличный повод поднять бокалчик'\n",
      " 'Первая ракетка мира австралийка Эшли Барти завоевала свой третий Шлем. Теперь до полной коллекции ей не хватает лишь победы на US Open.'\n",
      " 'Надаль Феликс Оже Альяссим станет 25 м матчем между 10 лучшими игроками ATP на турнирах Большого шлема после пандемии. После пандемии между 10 лучшими игроками WTA на турнирах Большого шлема состоялось 2 матча.'\n",
      " 'Победа Новака в Федеральном окружном суде произошла после того как он нанял сильных адвокатов услуги которых стоят около 50 000 долларов. Юридическая контора Hatokenoid Wtokenoid представляет интересы лучшего теннисиста мира. Команда состоит из Натали Баннистер Пенелопы Форд и Грейдона Даувда которые также привлекли к процессу своих коллег Пола Холденсона Ника Вуда Ника Драгойловича и Джима Хартли. Вуд и Холденсон и имеют статус королевских адвокатов КТО ЯВЛЯЕТСЯ АДВОКАТАМИ НОВАКА? Юридическую команду Новака Джоковича возглавил Николас Вуд редактор главы Судебное рассмотрение административного права штата Виктория который представлял интересы своих клиентов в Высоком суде Верховном суде и Федеральном окружном суде. Ранее он был советником Генерального адвоката Содружества и помощником судьи Бомонта в Федеральном суде. Вуду не чужд иммиграционного права. Недавно он работал в Федеральном окружном суде над делом о предполагаемом мошенничестве совершенном против заявителя на визу ее миграционным агентом. К нему в команде присоединился Пол Холденсен чья юридическая карьера началась в 1989 году. Он специализируется как апелляционный адвокат который в основном выступает в ходе апелляций по уголовным делам. Он выступал в Апелляционном суде штата Виктория Высоком суде Австралии и межгосударственных апелляционных судах Западной Австралии Южной Австралии и Тасмании. В команду Новака также входит Ник Драгойлович в описании которого на Ltokenoid говорится что он работает во всех судах и трибуналах по широкому кругу вопросов хозяйственного права и что он является особым экспертом в вопросах собственности. Он ссылается на опыт в сложных договорных спорах процессах несостоятельности банкротства и ликвидации а также в вопросах корпоративного права. В команду из четырех человек также входил Джим Хартли который был помощником судьи Федерального суда а также старшим юристом в практике коммерческих судебных разбирательств с адвокатами в Канберре. Он стал лауреатом премии за выдающиеся достижения в работе pro tokenoid.'\n",
      " 'СОБОЛЕНКО КВАЛИФИЦИРОВАЛАСЬ НА WTA FINALS Белоруска Арина Соболенко оформила путевку на Итоговый чемпионат года. Таким образом лишь одно место остается вакантным. newstokentokenoid Satokenoid'\n",
      " 'Энди Маррей прокомментировал победу над австрийцем Домиником Тимом на старте турнира в Мадриде. Последние пять лет я почти не выступал на грунте но перед Мадридом я тренировался четыре недели. Сейчас я чувствую себя гораздо комфортнее чем обычно в начале грунтового сезона. Я показал хороший теннис Тим тоже играл неплохо но пока он допускает гораздо больше ошибок чем обычно потому что еще не набрал форму. Я доволен своей игрой. Думаю мои тренировки приносят свои плоды. У меня была травма запястья в начале карьеры. После нее сложнее возвращаться с психологической точки зрения. После некоторых моих резаных ударов именно запястье не позволяло Доминику контролировать мяч. Ему просто надо провести побольше матчей и почувствовать уверенность в себе. Такое всегда случается после длинного перерыва. У него психологический блок но это должно пройти приводит слова Маррея Etokenoid.']\n",
      "------------------------------------- AUTOSPORT -------------------------------------\n",
      "['Фоторепортаж со второго этапа Зимнего Кубка УрФО по дрифту 2022 Миша Чекменев'\n",
      " 'Японская версия обгонного регламента или детали новой аэродинамической конфигурации шасси для японской Супер Формулы. Stokenoid Formtokenoid'\n",
      " 'Пора выходить из зимней спячки начинаем этот год с видео про лучшую команду России в мировом автоспорте Камаз Мастер 33 Ссылка'\n",
      " 'Да этот Porstokenoid Panamera E Hytokenoid будет разыгран уже в декабре 33 Наши Грид Герлз уже протестировали его и хотя мы переживали что во время тестов на трассе что то может случиться и вам Порш достанется слегка помятым все опасения оказались напрасны тачка крайне дружелюбна к водителю рулится и едет более чем достойно 33 Подробности розыгрыша тут'\n",
      " 'Механики Wtokenoid впервые в сезоне оказались самыми быстрыми на пит стопе В Канаде впервые в сезоне механики Wtokenoid провели самый быстрый пит стоп. Машину Александра Албона они обслужили за 2. 38 секунды. Второе место заняли механики Atokenoid заменившие колеса на машине Юки Цунода за 2. 39 секунды. Им же принадлежит и третий по времени пит стоп 2. 42 секунды.'\n",
      " 'Автомаркет Шилка Большое поступление нового товара ‼️ Подготовь свой авто к зиме правильно tokenoidtokenoid Шилка'\n",
      " 'Во время квалификации судьи удалили круг Джоу в Q2 за выезд за белую линию но за аналогичную ошибку в Q1 Макса не наказали а это был его единственный быстрый круг в первом сегменте. Ждем перестановки в решетке и Макса на 20 позиции?'\n",
      " 'Эмм. . . такой вопрос вы как считаете это нормально когда Хэмилтон едит позади Гасли в слип стриме дрс и его максимальная скорость не достигла 300 км в час'\n",
      " 'Существовала ли когда либо лучшая комбинация машины и гонщика чем Найджел Мэнселл и Wtokenoid FW14B 1992 года? Спустя 30 лет Большой Найдж снова сел за руль красотки принесшей ему чемпионский титул'\n",
      " 'Серхио Перес был быстрее своего звездного напарника Макса Ферстаппена в Монако а затем и в квалификации на улицах Баку. Но в гонке ничего не смог противопоставить действующему чемпиону. Как же так получилось?']\n",
      "------------------------------------- MARTIAL_ARTS -------------------------------------\n",
      "['Как выглядел мир когда последний раз дрался Диллон Дэнис Никто не знал что такое COVID 19 Бен Аскрен не проигрывал в единоборствах Хамзату Чимаеву исполнился всего 1 год в профессиональной карьере. Альджамейн Стерлинг боролся на отборочных турнирах Ковбой Серроне выиграл серию из 3 боев.'\n",
      " 'Обувная ложка меч Kessak подарок для настоящего мужчины 33 Узнать цену и сделать заказ ВКонтакте tokentokenoid WhatsApp tokentokenoid Выглядит стильно дорого и приятна на ощупь 33 Станет роскошным украшением для интерьера 33 Вы точно удивите всех оригинальным подарком 33 Не гнется Гарантия на изделие 5 лет Оплата после получения Отправка в течение 24 часов быстрая доставка Отбалансирована как настоящий самурайский меч Оптимальная длина чтобы не наклоняться Индивидуальная гравировка Единственный производитель в России Ручная работа Подвес держатель в подарок Наши обувные ложки вызывают настоящие эмоции даже у самых брутальных мужчин 33 Дарите лучшие подарки своим близким 33 Пишите и получите скидку 33 ВКонтакте tokentokenoid WhatsApp tokentokenoid'\n",
      " 'Как заменить привычные чипсы? Отведайте сушки с беконом томатом и чесноком 33 Их легко захватить на работу в качестве перекуса или есть под фильм Узнайте больше в ролике.'\n",
      " 'Меня просто спровоцировали а те кто пишет в мой адрес гадости ну если вы считаете себя девочками из эскорт услуг значит так и есть. Порядочные девушки никогда не будут принимать мои слова буквально принимая их на свой счет а шлюхи что ни говори такими и останутся видимо судьба такая. Надеюсь вменяемые меня понимают. Да и еще не нужно делать волны в тазике не получится. Всем здоровья и мотивации в тренировках добрые люди ну а остальным уже ничего не поможет заключил Дмитрий.'\n",
      " 'AMC FNG Амиржанов Гаджимурад Денисов Сергей 23 го февраля'\n",
      " 'Покой среди покоя не истинный покой. Лишь когда обретешь покой в движении воистину постигнешь небесную природу. Веселье среди веселья не истинная радость. Лишь когда постигнешь радость в печали поймешь чем живет сердце. Хун Цзычен цитатыtokentokenoid'\n",
      " 'кино странаушу Мастер убийца Гонконг Тайвань. 1980 г. Ван Хон чан. Сценарий Ван Хон чан. Продюсер Хуан Мон. Оператор Ван Вэнь ляо. В ролях Юэнь Лан Казанова Вонг Филипп Ко Боло Янг Лин Танг Чань Лау Джекки Чан Чун Кам Шан Хе. Мастер Мин подло убивает наставника соперничающей школы мастера Туна. Но у Туна остаются два сына которые клянутся жестоко отомстить убийце даже если им придется пожертвовать собственной жизнью.'\n",
      " 'Официально 33 Алексей Олейник встретится с Джаредом Вандераа на UFC 273 который состоится 9 апреля. Илир Латифи не успевает восстановиться к поединку 33'\n",
      " 'Глазков Кобенов Игорь Глазков 4 0 и Айбек Кобенов 1 0 проведут бой в полутяжелом весе на турнире OPEN FC 17 в Барнауле. Игорь Глазков выступает с 2019 года. Непобежденный боец имеет в активе 3 финиша и 2 победы решением судей. Он уже выступал в нашей организации. В августе 2021 года он победил Дмитрия Тебекина на OPEN FC 9 в Екатеринбурге. Айбек Кобенов выступает с 2021 года. Он провел победый бой против Кайратбека Адамбаева победив досрочно во втором раунде. 5 февраля Барнаул Титов Арена 14 00 МСК Билеты в продаже сайте OPENFCMMA. COM Igor Gtokenoid 4 0 and Atokenoid Kotokenoid 1 0 wtokenoid ftokenoid tokenoid tokenoid heavywetokenoid at the OPEN FC 17 totokenoid tokenoid Barnatokenoid. OPENFC OFC Тольятти ММА'\n",
      " 'Характер это оружие. Главное не стрелять по своим. Zentokenoid']\n",
      "------------------------------------- VOLLEYBALL -------------------------------------\n",
      "['Последний день заявочной кампании на Финал Чемпионата России по волейболу на снегу 31 марта 2 апреля на горнолыжном курорте Шерегеш в Кемеровской области закрываем сезон Бонус призовой фонд увеличен Подавай заявку если еще этого не сделал 33 Положение'\n",
      " 'МНЕ ЗАПРЕТИЛИ ИГРАТЬ С КАМЕРОЙ? Жирный профи НЕ притворился новичком'\n",
      " 'Болл – старший тренер Урала ️ Бывший волейболист Урала и казанского Зенита Ллой Болл вошел в тренерский штаб Урала. Он будет помогать Юрию Лисицкому и Владиславу Макарову в конце чемпионата. Соглашение с Боллом рассчитано до 30 мая 2022 года. Напомним что Ллой Болл выступал в Урале в сезоне 2011 2012 года. Американец завершил карьеру в уфимском клубе подарив команде путевки в еврокубки.'\n",
      " 'hq от подписчика каверопенинга Вашему вниманию лучший на мой взгляд кавер от подписчика 33 Кавер на Hatokenoid 33 33 Season 4 от команды MUSEN'\n",
      " 'Результаты матчей второго игрового дня 29 июня третей игровой недели женской Лиги наций 2022 Калгари Группа 5 Япония Нидерланды 2 3 25 23 20 25 26 24 21 25 10 15 Бельгия США 0 3 16 25 21 25 19 25 София Группа 6 Таиланд Южная Корея 3 0 25 11 25 22 25 17 Италия Польша 3 1 25 27 25 20 28 26 25 18 Расписание всех матчей VNLWtokentokenoid'\n",
      " 'Завершаем пляжный марафон в Анапе Смотри все решающие встречи BetBoom этапа Чемпионата России на Матч Страна и ТВ Старт'\n",
      " 'К сожалению в это сезоне Кубок ЕКВ нам не подарит российский финал так что придется довольствоваться лишь отечественным четвертьфиналом Как прошел первый матч между Зенит Казань и Кузбассом вы узнаете в этом обзоре'\n",
      " 'Лига чемпионов 2022 2023. Мужчины Кнак Тур Расписание матчей турнирные таблицы'\n",
      " 'На церемонии награждения что состоялась по окончанию финального матча Чемпионата Мира по волейболу была представлена символическая сборная турнира Эта тема вызвала серьезные споры в интернете к которым присоединимся и мы'\n",
      " '4х2Mtokenoid 3 A. Награждение. За 1 е место команда Спайк получила приз сертификат на сумму 1000 рублей в бильярдный зал 50 50. Поздравляем 33 Подробнее Фото Дмитрий Забелин. 19. 03. 2022. nvtokenoid']\n"
     ]
    }
   ],
   "source": [
    "for cat in df_train.category.unique():\n",
    "    print(\"-------------------------------------\", cat.upper(), \"-------------------------------------\")\n",
    "    \n",
    "    print(df_train[df_train.category == cat].text.values[:10])"
   ]
  },
  {
   "cell_type": "code",
   "execution_count": null,
   "id": "706adccb",
   "metadata": {},
   "outputs": [],
   "source": []
  }
 ],
 "metadata": {
  "kernelspec": {
   "display_name": "Python 3 (ipykernel)",
   "language": "python",
   "name": "python3"
  },
  "language_info": {
   "codemirror_mode": {
    "name": "ipython",
    "version": 3
   },
   "file_extension": ".py",
   "mimetype": "text/x-python",
   "name": "python",
   "nbconvert_exporter": "python",
   "pygments_lexer": "ipython3",
   "version": "3.9.17"
  }
 },
 "nbformat": 4,
 "nbformat_minor": 5
}
